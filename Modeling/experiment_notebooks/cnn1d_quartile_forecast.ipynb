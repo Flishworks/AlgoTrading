{
 "cells": [
  {
   "cell_type": "code",
   "execution_count": 1,
   "metadata": {},
   "outputs": [],
   "source": [
    "import os\n",
    "import sys\n",
    "import numpy as np\n",
    "import pandas as pd\n",
    "import matplotlib.pyplot as plt\n",
    "import torch\n",
    "import torch.nn as nn\n",
    "import torch.nn.functional as F\n",
    "from torch.utils.data import Dataset, DataLoader\n",
    "\n",
    "sys.path.append(r'C:\\Users\\avido\\Documents\\other code\\AlgoTrading')\n",
    "import utils\n",
    "import Modeling.modeling_utils.datasets as ds\n",
    "import Modeling.modeling_utils.model_architectures as arch"
   ]
  },
  {
   "cell_type": "markdown",
   "metadata": {},
   "source": [
    "Load data"
   ]
  },
  {
   "cell_type": "code",
   "execution_count": 2,
   "metadata": {},
   "outputs": [],
   "source": [
    "#open and combine all data\n",
    "key = 'BTCUSD'\n",
    "full_df = pd.read_csv(os.path.join('..', '..', 'data', 'scraped_OHLC_4-28-2024', key+'.csv'))\n",
    "full_df['dtime'] = pd.to_datetime(full_df['dtime'], format='%Y-%m-%d %H:%M:%S')\n",
    "full_df.set_index('dtime', inplace = True)\n",
    "full_df.drop(columns=['time'], inplace=True)\n",
    "full_df.dropna(inplace=True, axis=0, how='all')"
   ]
  },
  {
   "cell_type": "code",
   "execution_count": 3,
   "metadata": {},
   "outputs": [
    {
     "data": {
      "text/html": [
       "<div>\n",
       "<style scoped>\n",
       "    .dataframe tbody tr th:only-of-type {\n",
       "        vertical-align: middle;\n",
       "    }\n",
       "\n",
       "    .dataframe tbody tr th {\n",
       "        vertical-align: top;\n",
       "    }\n",
       "\n",
       "    .dataframe thead th {\n",
       "        text-align: right;\n",
       "    }\n",
       "</style>\n",
       "<table border=\"1\" class=\"dataframe\">\n",
       "  <thead>\n",
       "    <tr style=\"text-align: right;\">\n",
       "      <th></th>\n",
       "      <th>open</th>\n",
       "      <th>high</th>\n",
       "      <th>low</th>\n",
       "      <th>close</th>\n",
       "      <th>vwap</th>\n",
       "      <th>volume</th>\n",
       "      <th>count</th>\n",
       "    </tr>\n",
       "    <tr>\n",
       "      <th>dtime</th>\n",
       "      <th></th>\n",
       "      <th></th>\n",
       "      <th></th>\n",
       "      <th></th>\n",
       "      <th></th>\n",
       "      <th></th>\n",
       "      <th></th>\n",
       "    </tr>\n",
       "  </thead>\n",
       "  <tbody>\n",
       "    <tr>\n",
       "      <th>2022-04-13 17:33:00</th>\n",
       "      <td>41054.5</td>\n",
       "      <td>41054.5</td>\n",
       "      <td>41054.5</td>\n",
       "      <td>41054.5</td>\n",
       "      <td>41054.5</td>\n",
       "      <td>0.609958</td>\n",
       "      <td>9</td>\n",
       "    </tr>\n",
       "    <tr>\n",
       "      <th>2022-04-13 17:34:00</th>\n",
       "      <td>41054.5</td>\n",
       "      <td>41054.5</td>\n",
       "      <td>41000.0</td>\n",
       "      <td>41000.0</td>\n",
       "      <td>41031.2</td>\n",
       "      <td>0.778243</td>\n",
       "      <td>29</td>\n",
       "    </tr>\n",
       "    <tr>\n",
       "      <th>2022-04-13 17:35:00</th>\n",
       "      <td>41000.0</td>\n",
       "      <td>41001.6</td>\n",
       "      <td>40991.8</td>\n",
       "      <td>41001.5</td>\n",
       "      <td>40996.8</td>\n",
       "      <td>0.697326</td>\n",
       "      <td>16</td>\n",
       "    </tr>\n",
       "    <tr>\n",
       "      <th>2022-04-13 17:36:00</th>\n",
       "      <td>41001.6</td>\n",
       "      <td>41001.6</td>\n",
       "      <td>40950.2</td>\n",
       "      <td>40950.2</td>\n",
       "      <td>40972.5</td>\n",
       "      <td>1.606614</td>\n",
       "      <td>17</td>\n",
       "    </tr>\n",
       "    <tr>\n",
       "      <th>2022-04-13 17:37:00</th>\n",
       "      <td>40950.1</td>\n",
       "      <td>40950.2</td>\n",
       "      <td>40933.2</td>\n",
       "      <td>40933.2</td>\n",
       "      <td>40936.6</td>\n",
       "      <td>0.043350</td>\n",
       "      <td>9</td>\n",
       "    </tr>\n",
       "    <tr>\n",
       "      <th>...</th>\n",
       "      <td>...</td>\n",
       "      <td>...</td>\n",
       "      <td>...</td>\n",
       "      <td>...</td>\n",
       "      <td>...</td>\n",
       "      <td>...</td>\n",
       "      <td>...</td>\n",
       "    </tr>\n",
       "    <tr>\n",
       "      <th>2024-04-29 03:24:00</th>\n",
       "      <td>62654.2</td>\n",
       "      <td>62662.1</td>\n",
       "      <td>62654.2</td>\n",
       "      <td>62662.0</td>\n",
       "      <td>62661.6</td>\n",
       "      <td>0.149024</td>\n",
       "      <td>16</td>\n",
       "    </tr>\n",
       "    <tr>\n",
       "      <th>2024-04-29 03:25:00</th>\n",
       "      <td>62662.1</td>\n",
       "      <td>62667.1</td>\n",
       "      <td>62662.1</td>\n",
       "      <td>62667.1</td>\n",
       "      <td>62662.1</td>\n",
       "      <td>0.090850</td>\n",
       "      <td>8</td>\n",
       "    </tr>\n",
       "    <tr>\n",
       "      <th>2024-04-29 03:26:00</th>\n",
       "      <td>62667.1</td>\n",
       "      <td>62667.1</td>\n",
       "      <td>62667.0</td>\n",
       "      <td>62667.1</td>\n",
       "      <td>62667.0</td>\n",
       "      <td>0.001626</td>\n",
       "      <td>3</td>\n",
       "    </tr>\n",
       "    <tr>\n",
       "      <th>2024-04-29 03:27:00</th>\n",
       "      <td>62667.1</td>\n",
       "      <td>62667.1</td>\n",
       "      <td>62667.1</td>\n",
       "      <td>62667.1</td>\n",
       "      <td>62667.1</td>\n",
       "      <td>0.097000</td>\n",
       "      <td>5</td>\n",
       "    </tr>\n",
       "    <tr>\n",
       "      <th>2024-04-29 03:28:00</th>\n",
       "      <td>62667.0</td>\n",
       "      <td>62667.0</td>\n",
       "      <td>62554.6</td>\n",
       "      <td>62554.7</td>\n",
       "      <td>62609.1</td>\n",
       "      <td>0.095445</td>\n",
       "      <td>22</td>\n",
       "    </tr>\n",
       "  </tbody>\n",
       "</table>\n",
       "<p>1048725 rows × 7 columns</p>\n",
       "</div>"
      ],
      "text/plain": [
       "                        open     high      low    close     vwap    volume  \\\n",
       "dtime                                                                        \n",
       "2022-04-13 17:33:00  41054.5  41054.5  41054.5  41054.5  41054.5  0.609958   \n",
       "2022-04-13 17:34:00  41054.5  41054.5  41000.0  41000.0  41031.2  0.778243   \n",
       "2022-04-13 17:35:00  41000.0  41001.6  40991.8  41001.5  40996.8  0.697326   \n",
       "2022-04-13 17:36:00  41001.6  41001.6  40950.2  40950.2  40972.5  1.606614   \n",
       "2022-04-13 17:37:00  40950.1  40950.2  40933.2  40933.2  40936.6  0.043350   \n",
       "...                      ...      ...      ...      ...      ...       ...   \n",
       "2024-04-29 03:24:00  62654.2  62662.1  62654.2  62662.0  62661.6  0.149024   \n",
       "2024-04-29 03:25:00  62662.1  62667.1  62662.1  62667.1  62662.1  0.090850   \n",
       "2024-04-29 03:26:00  62667.1  62667.1  62667.0  62667.1  62667.0  0.001626   \n",
       "2024-04-29 03:27:00  62667.1  62667.1  62667.1  62667.1  62667.1  0.097000   \n",
       "2024-04-29 03:28:00  62667.0  62667.0  62554.6  62554.7  62609.1  0.095445   \n",
       "\n",
       "                     count  \n",
       "dtime                       \n",
       "2022-04-13 17:33:00      9  \n",
       "2022-04-13 17:34:00     29  \n",
       "2022-04-13 17:35:00     16  \n",
       "2022-04-13 17:36:00     17  \n",
       "2022-04-13 17:37:00      9  \n",
       "...                    ...  \n",
       "2024-04-29 03:24:00     16  \n",
       "2024-04-29 03:25:00      8  \n",
       "2024-04-29 03:26:00      3  \n",
       "2024-04-29 03:27:00      5  \n",
       "2024-04-29 03:28:00     22  \n",
       "\n",
       "[1048725 rows x 7 columns]"
      ]
     },
     "execution_count": 3,
     "metadata": {},
     "output_type": "execute_result"
    }
   ],
   "source": [
    "full_df"
   ]
  },
  {
   "cell_type": "markdown",
   "metadata": {},
   "source": [
    "investigate quartile dataset"
   ]
  },
  {
   "cell_type": "code",
   "execution_count": 4,
   "metadata": {},
   "outputs": [],
   "source": [
    "in_window_size = 60*48\n",
    "out_window_size = 60*4\n",
    "batch_size = 64\n",
    "train_test_split = 0.9\n",
    "out_key = 'close' #, 'SOLUSD_close', 'DOTUSD_close', 'ADAUSD_close', 'ALGOUSD_close']\n",
    "\n",
    "dataset = ds.quartile_dataset(full_df, in_window_size, out_winsize=out_window_size, out_key=out_key, in_keys=None, num_quartiles=10, debug=True)"
   ]
  },
  {
   "cell_type": "code",
   "execution_count": 5,
   "metadata": {},
   "outputs": [
    {
     "name": "stdout",
     "output_type": "stream",
     "text": [
      "Quartiles: [-0.12164404  0.01345024  0.12423308  0.33191636  0.43365146  0.54933803\n",
      "  0.55866202  0.7669669   0.83741484  1.20098144  1.56358112]\n"
     ]
    },
    {
     "data": {
      "image/png": "[encoded data removed]",
      "text/plain": [
       "<Figure size 640x480 with 1 Axes>"
      ]
     },
     "metadata": {},
     "output_type": "display_data"
    }
   ],
   "source": [
    "#plot random sample\n",
    "rand_idx = np.random.randint(0, len(dataset))\n",
    "\n",
    "x, y, _y = dataset[rand_idx]\n",
    "plt.plot(np.arange(len(x[3])), x[3])\n",
    "\n",
    "#also plot future segment and print the quartiles\n",
    "plt.plot(np.arange(len(x[3]), len(x[3])+len(_y)), _y)\n",
    "\n",
    "print('Quartiles:', y.numpy())"
   ]
  },
  {
   "cell_type": "markdown",
   "metadata": {},
   "source": [
    "build train and test datasets"
   ]
  },
  {
   "cell_type": "code",
   "execution_count": 6,
   "metadata": {},
   "outputs": [],
   "source": [
    "in_window_size = 60*24\n",
    "out_window_size = 60*4\n",
    "batch_size = 32\n",
    "train_test_split = 0.8\n",
    "out_key = 'close' #, 'SOLUSD_close', 'DOTUSD_close', 'ADAUSD_close', 'ALGOUSD_close']\n",
    "num_quartiles = 6\n",
    "\n",
    "#for reshaping\n",
    "window_size = 60\n",
    "stride = 15\n",
    "\n",
    "train_ds = ds.quartile_dataset(df=full_df[0:int(.8*len(full_df))], in_winsize=in_window_size, out_winsize=out_window_size, out_key=out_key, in_keys=None, num_quartiles=num_quartiles)\n",
    "test_ds = ds.quartile_dataset(df=full_df[int(.8*len(full_df)):], in_winsize=in_window_size, out_winsize=out_window_size, out_key=out_key, in_keys=None, num_quartiles=num_quartiles)\n",
    "\n",
    "\n",
    "downsampled_train_ds = ds.RandomDownsampleDataset(train_ds, out_size=10000, method='random')\n",
    "downsampled_test_ds = ds.RandomDownsampleDataset(test_ds, out_size=1000, method='random')\n",
    "    \n",
    "train_dl = DataLoader(downsampled_train_ds, batch_size=batch_size, shuffle=True)\n",
    "test_dl = DataLoader(downsampled_test_ds, batch_size=batch_size, shuffle=True)"
   ]
  },
  {
   "cell_type": "code",
   "execution_count": 7,
   "metadata": {},
   "outputs": [
    {
     "data": {
      "text/plain": [
       "(torch.Size([7, 1440]), torch.Size([7]))"
      ]
     },
     "execution_count": 7,
     "metadata": {},
     "output_type": "execute_result"
    }
   ],
   "source": [
    "downsampled_train_ds[0][0].shape, downsampled_train_ds[0][1].shape"
   ]
  },
  {
   "cell_type": "code",
   "execution_count": 8,
   "metadata": {},
   "outputs": [
    {
     "data": {
      "text/plain": [
       "(torch.Size([32, 7, 1440]), torch.Size([32, 7]))"
      ]
     },
     "execution_count": 8,
     "metadata": {},
     "output_type": "execute_result"
    }
   ],
   "source": [
    "itrtr = iter(train_dl)\n",
    "x, y = next(itrtr)\n",
    "x.shape, y.shape"
   ]
  },
  {
   "cell_type": "code",
   "execution_count": 9,
   "metadata": {},
   "outputs": [
    {
     "name": "stderr",
     "output_type": "stream",
     "text": [
      "c:\\Users\\avido\\Documents\\other code\\AlgoTrading\\.venv\\lib\\site-packages\\torch\\nn\\modules\\lazy.py:180: UserWarning: Lazy modules are a new feature under heavy development so changes to the API or functionality can happen at any moment.\n",
      "  warnings.warn('Lazy modules are a new feature under heavy development '\n"
     ]
    },
    {
     "data": {
      "text/plain": [
       "(torch.Size([32, 7]), torch.Size([32, 7]))"
      ]
     },
     "execution_count": 9,
     "metadata": {},
     "output_type": "execute_result"
    }
   ],
   "source": [
    " #test encoder on dataloader\n",
    "# model = arch.get_resnet(input_chans=7, output_size=y.shape[1], pretrained=True)\n",
    "# model = arch.FullCNN_1d(in_channels=x.shape[1], out_dim=y.shape[1])\n",
    "# model = arch.hybridNet(num_blocks=10, out_dim=y.shape[1])\n",
    "model = arch.FullLinear(out_dim=y.shape[1])\n",
    "\n",
    "x, y = next(iter(train_dl))\n",
    "x = x.to(torch.float32)\n",
    "y_hat = model(x)\n",
    "\n",
    "# model = Encoder(4)\n",
    "# y = model(next(iter(train_dataloader)))\n",
    "y_hat.shape, y.shape"
   ]
  },
  {
   "cell_type": "code",
   "execution_count": 10,
   "metadata": {},
   "outputs": [],
   "source": [
    "def train_loop(model, dataloader, criterion, optimizer, device):\n",
    "    model.train()  # Set the model to training mode\n",
    "    running_loss = 0.0\n",
    "    for i, data in enumerate(dataloader, 0):\n",
    "        x, y = data\n",
    "        x = x.to(torch.float32)\n",
    "        x = x.to(device)  # Move the inputs to the device (GPU or CPU)\n",
    "        \n",
    "        y = y.to(torch.float32)\n",
    "        y = y.to(device)    \n",
    "        optimizer.zero_grad()  # Zero the parameter gradients\n",
    "\n",
    "        y_hat = model(x)  # Forward pass\n",
    "        loss = criterion(y_hat, y)  # Compute the loss\n",
    "\n",
    "        loss.backward()  # Backward pass\n",
    "        optimizer.step()  # Optimize\n",
    "\n",
    "        running_loss += loss.detach().item()\n",
    "        print(f\"Train epoch: Percent complete: {100 * i / len(dataloader)}, Current loss: {loss}\", end='\\r')\n",
    "    return running_loss / len(dataloader)\n",
    "\n",
    "    \n",
    "def val_loop(model, dataloader, criterion, device):\n",
    "    model.eval()  # Set the model to evaluation mode\n",
    "    running_loss = 0.0\n",
    "    with torch.no_grad():\n",
    "        for i, data in enumerate(dataloader, 0):\n",
    "            x, y = data\n",
    "            x = x.to(torch.float32)\n",
    "            x = x.to(device)  # Move the inputs to the device (GPU or CPU)\n",
    "            y = y.to(torch.float32)\n",
    "            y = y.to(device)\n",
    "            y_hat = model(x)  # Forward pass\n",
    "            loss = criterion(y_hat, y)  # Compute the loss\n",
    "\n",
    "            running_loss += loss.detach().item()\n",
    "            print(f\"Val epoch: Percent complete: {100 * i / len(dataloader)}\", end='\\r')\n",
    "\n",
    "    return running_loss / len(dataloader)\n",
    "\n",
    "val_losses = []\n",
    "train_losses = []"
   ]
  },
  {
   "cell_type": "code",
   "execution_count": 11,
   "metadata": {},
   "outputs": [
    {
     "name": "stdout",
     "output_type": "stream",
     "text": [
      "Epoch 1/100, Train Loss: 4.579509675312347, Val Loss: 4.220114681869745149063110355\n",
      "Epoch 2/100, Train Loss: 4.070463032387316, Val Loss: 3.137681495398283069015502932\n",
      "Epoch 3/100, Train Loss: 3.0846366754736003, Val Loss: 2.61123447865247737172241268\n",
      "Epoch 4/100, Train Loss: 2.617332004700987, Val Loss: 2.739703571423888230972290043\n",
      "Epoch 5/100, Train Loss: 2.5212635826378964, Val Loss: 2.58346824534237429779052734\n",
      "Epoch 6/100, Train Loss: 2.4002798121577253, Val Loss: 1.76210362650454044178466835\n",
      "Epoch 7/100, Train Loss: 2.1561339089093496, Val Loss: 2.02631726115942677625656133\n",
      "Epoch 8/100, Train Loss: 2.390760587617612, Val Loss: 2.094573168084025479504394534\n",
      "Epoch 9/100, Train Loss: 2.2219067141651725, Val Loss: 1.93095196038484576471481321\n",
      "Epoch 10/100, Train Loss: 1.9936344828278112, Val Loss: 1.6329898592084646554061893\n",
      "Epoch 11/100, Train Loss: 2.0547692002579807, Val Loss: 2.2725278800353410378112865\n",
      "Epoch 12/100, Train Loss: 1.7951919633550004, Val Loss: 2.1542915292084217676696785\n",
      "Epoch 13/100, Train Loss: 1.892400844409443, Val Loss: 2.018801375292241610491180456\n",
      "Epoch 14/100, Train Loss: 2.079416116491293, Val Loss: 2.24357959069311651011657714\n",
      "Epoch 15/100, Train Loss: 2.1002299746575828, Val Loss: 1.80554425530135639186096276\n",
      "Epoch 16/100, Train Loss: 2.14505184448946, Val Loss: 2.2642262410372496404449463357\n",
      "Epoch 17/100, Train Loss: 2.014970521195628, Val Loss: 1.980721418745815869235229566\n",
      "Epoch 18/100, Train Loss: 1.9273600415490306, Val Loss: 1.9764265399426222799346922\n",
      "Epoch 19/100, Train Loss: 1.955774533005949, Val Loss: 1.62532737199217084209136965\n",
      "Epoch 20/100, Train Loss: 1.8448794411775022, Val Loss: 2.63724909815937381076049877\n",
      "Epoch 21/100, Train Loss: 1.8755068621886806, Val Loss: 1.44423923175781971589355575\n",
      "Epoch 22/100, Train Loss: 2.205281000358228, Val Loss: 1.59657771419733765403747566\n",
      "Epoch 23/100, Train Loss: 1.8420409390720696, Val Loss: 1.40161273255944253116455376\n",
      "Epoch 24/100, Train Loss: 1.8581370447580807, Val Loss: 2.0284288479015232306976325\n",
      "Epoch 25/100, Train Loss: 1.9984643943012712, Val Loss: 2.0180420707911253876892179\n",
      "Epoch 26/100, Train Loss: 1.8983715136591999, Val Loss: 2.71870620828121917675781275\n",
      "Epoch 27/100, Train Loss: 1.815749177155784, Val Loss: 1.727573780342936572460174673\n",
      "Epoch 28/100, Train Loss: 2.0502275084725583, Val Loss: 1.42965647019445996657562335\n",
      "Epoch 29/100, Train Loss: 1.816197383232391, Val Loss: 1.672939459793269665695190465\n",
      "Epoch 30/100, Train Loss: 1.8044167212404, Val Loss: 1.29193794634193180082244873657\n",
      "Epoch 31/100, Train Loss: 1.964851485844999, Val Loss: 1.87329812254756711585998548\n",
      "Epoch 32/100, Train Loss: 1.849004128013556, Val Loss: 1.91813189722597695644378666\n",
      "Epoch 33/100, Train Loss: 1.9328431109079538, Val Loss: 1.65269734431058171912842853\n",
      "Epoch 34/100, Train Loss: 1.974031854266176, Val Loss: 1.54341809451580059155578665\n",
      "Epoch 35/100, Train Loss: 1.7786361268534066, Val Loss: 1.8911257907748222668548583\n",
      "Epoch 36/100, Train Loss: 1.8014970073303855, Val Loss: 1.47480809967964897595215873\n",
      "Epoch 37/100, Train Loss: 1.7040846097393159, Val Loss: 1.26982882432639601849365255\n",
      "Epoch 38/100, Train Loss: 1.9246209876034588, Val Loss: 2.28673287853598642241668746\n",
      "Epoch 39/100, Train Loss: 1.8556470826220588, Val Loss: 1.80852396506816159832305917\n",
      "Epoch 40/100, Train Loss: 1.7046139707770973, Val Loss: 1.75486074388027290863037643\n",
      "Epoch 41/100, Train Loss: 1.92095742162805, Val Loss: 1.968688990920782891048431435\n",
      "Epoch 42/100, Train Loss: 1.7264091168729643, Val Loss: 1.58389574103057385224762575\n",
      "Epoch 43/100, Train Loss: 1.6082644849158705, Val Loss: 2.3598453365266323630493163\n",
      "Epoch 44/100, Train Loss: 1.9414228359921673, Val Loss: 1.9931416530162096368751526\n",
      "Epoch 45/100, Train Loss: 1.8053494070094234, Val Loss: 1.9276379384100437179565434\n",
      "Epoch 46/100, Train Loss: 1.7480851187111852, Val Loss: 1.71594382449984550486145454\n",
      "Epoch 47/100, Train Loss: 1.7236117278805936, Val Loss: 1.7375917108729482159149173\n",
      "Epoch 48/100, Train Loss: 1.973290097027922, Val Loss: 1.437737233936786732246399355\n",
      "Epoch 49/100, Train Loss: 1.8153608474678125, Val Loss: 1.28756521549075843745880136\n",
      "Epoch 50/100, Train Loss: 1.6479896740220226, Val Loss: 2.07636525481939301457977353\n",
      "Epoch 51/100, Train Loss: 1.827570861996934, Val Loss: 1.504993230104446430436706533\n",
      "Epoch 52/100, Train Loss: 1.7601560568466734, Val Loss: 1.9639355186372995585983286\n",
      "Epoch 53/100, Train Loss: 1.7521009443286129, Val Loss: 1.57839395105838787894897586\n",
      "Epoch 54/100, Train Loss: 1.778341451011146, Val Loss: 1.67838231660425666213684085\n",
      "Epoch 55/100, Train Loss: 1.8871220317892372, Val Loss: 1.49365245364606383223876955\n",
      "Epoch 56/100, Train Loss: 1.821379551015342, Val Loss: 1.519239947199821514869695855\n",
      "Epoch 57/100, Train Loss: 2.013900685424622, Val Loss: 1.98275495041161788061676032\n",
      "Epoch 58/100, Train Loss: 1.9067256394476175, Val Loss: 1.8887469498440623747344977\n",
      "Epoch 59/100, Train Loss: 1.6615799999656007, Val Loss: 1.67162718065083033665924145\n",
      "Epoch 60/100, Train Loss: 1.7776822216404131, Val Loss: 1.44792334642261279050750735\n",
      "Epoch 61/100, Train Loss: 1.7751615394989904, Val Loss: 1.56116251461207879437256366\n",
      "Epoch 62/100, Train Loss: 1.7408773166874347, Val Loss: 2.1624881802126765653930662\n",
      "Epoch 63/100, Train Loss: 1.8950257810731284, Val Loss: 1.67694207932800056205215455\n",
      "Epoch 64/100, Train Loss: 1.7644379536945598, Val Loss: 1.41020364686846738030395557\n",
      "Epoch 65/100, Train Loss: 1.8348297770983113, Val Loss: 1.89266831800341646725463955\n",
      "Epoch 66/100, Train Loss: 1.7642844119391883, Val Loss: 1.8828082922846079377014164\n",
      "Epoch 67/100, Train Loss: 1.8110328315736386, Val Loss: 1.2496599871665244453430184\n",
      "Epoch 68/100, Train Loss: 1.793359127954934, Val Loss: 1.90116372145712384407959454\n",
      "Epoch 69/100, Train Loss: 1.8357635112806632, Val Loss: 1.36851582676172260465088734\n",
      "Epoch 70/100, Train Loss: 1.789893190796002, Val Loss: 1.870024399831891867195129437\n",
      "Epoch 71/100, Train Loss: 1.9048572271205366, Val Loss: 1.58273384999483822618408374\n",
      "Epoch 72/100, Train Loss: 1.7401245364937157, Val Loss: 2.24681019783020243949890144\n",
      "Epoch 73/100, Train Loss: 2.0052589784605432, Val Loss: 1.4026463767513633583541873\n",
      "Epoch 74/100, Train Loss: 1.7664399281286964, Val Loss: 1.6382550159469247452621465\n",
      "Epoch 75/100, Train Loss: 1.7530596234356632, Val Loss: 1.5362702244892716561828614\n",
      "Epoch 76/100, Train Loss: 1.7854758448684558, Val Loss: 1.16803524270653729887695756\n",
      "Epoch 77/100, Train Loss: 1.9810611394266733, Val Loss: 1.5575312515720725711242686\n",
      "Epoch 78/100, Train Loss: 1.607095574799437, Val Loss: 2.380888467654586136314392144\n",
      "Epoch 79/100, Train Loss: 1.813444431216572, Val Loss: 1.715050981380045478901672456\n",
      "Epoch 80/100, Train Loss: 1.6500701820507597, Val Loss: 1.68780263327062136470947333\n",
      "Epoch 81/100, Train Loss: 1.726356240697562, Val Loss: 1.587513656355440616905212473\n",
      "Epoch 82/100, Train Loss: 1.6208002681549365, Val Loss: 1.5031294226646423852142337\n",
      "Epoch 83/100, Train Loss: 1.6655202948818573, Val Loss: 2.4157678307965425541687015\n",
      "Epoch 84/100, Train Loss: 1.8938252463127478, Val Loss: 2.10902753192931410826110855\n",
      "Epoch 85/100, Train Loss: 1.79713104536739, Val Loss: 1.6589329335838556719726562564\n",
      "Epoch 86/100, Train Loss: 1.8199993668082424, Val Loss: 1.7761353394016623052917555\n",
      "Epoch 87/100, Train Loss: 1.614759696843906, Val Loss: 1.316930392757058172373962434\n",
      "Epoch 88/100, Train Loss: 1.6335574182839439, Val Loss: 1.91285499650985388793945375\n",
      "Epoch 89/100, Train Loss: 1.759582933050375, Val Loss: 1.749696366488933693108367954\n",
      "Epoch 90/100, Train Loss: 1.7911688739689775, Val Loss: 2.1114760953933338191986086\n",
      "Epoch 91/100, Train Loss: 1.700676543548846, Val Loss: 2.073664233088493398623657266\n",
      "Epoch 92/100, Train Loss: 1.6354575524695765, Val Loss: 1.63979827240109448090133676\n",
      "Epoch 93/100, Train Loss: 1.7024608219203097, Val Loss: 1.80582034774124628367309624\n",
      "Epoch 94/100, Train Loss: 1.7476569874027668, Val Loss: 1.69155564252287152941131657\n",
      "Epoch 95/100, Train Loss: 1.7245988431639565, Val Loss: 1.6118824044242501630493164\n",
      "Epoch 96/100, Train Loss: 1.7599863253843289, Val Loss: 1.8049037912860513063232414\n",
      "Epoch 97/100, Train Loss: 1.661789395938666, Val Loss: 1.922224078327417451132202154\n",
      "Epoch 98/100, Train Loss: 1.7789690167949603, Val Loss: 2.24113755673170187440490725\n",
      "Epoch 99/100, Train Loss: 1.7130379781555445, Val Loss: 1.40399195253849036670837455\n",
      "Epoch 100/100, Train Loss: 1.6343845441318547, Val Loss: 1.7649065144360065455596964\n"
     ]
    },
    {
     "data": {
      "text/plain": [
       "[<matplotlib.lines.Line2D at 0x1b5134161c0>]"
      ]
     },
     "execution_count": 11,
     "metadata": {},
     "output_type": "execute_result"
    },
    {
     "data": {
      "image/png": "[encoded data removed]",
      "text/plain": [
       "<Figure size 640x480 with 1 Axes>"
      ]
     },
     "metadata": {},
     "output_type": "display_data"
    }
   ],
   "source": [
    "num_epochs = 100\n",
    "learning_rate = .000001\n",
    "loss_fn = nn.MSELoss()\n",
    "device = \"cuda\" if torch.cuda.is_available() else \"cpu\"\n",
    "optimizer = torch.optim.Adam(model.parameters(), lr=learning_rate)\n",
    "\n",
    "model = model.to(device)\n",
    "for epoch in range(num_epochs):\n",
    "    train_loss = train_loop(model, train_dl, loss_fn, optimizer, device)\n",
    "    val_loss = val_loop(model, test_dl, loss_fn, device)\n",
    "    train_losses.append(train_loss)\n",
    "    val_losses.append(val_loss)\n",
    "    print(f\"Epoch {epoch+1}/{num_epochs}, Train Loss: {train_loss}, Val Loss: {val_loss}\")\n",
    "    downsampled_train_ds.next_indecies()\n",
    "    downsampled_test_ds.next_indecies()\n",
    "    \n",
    "plt.plot(train_losses, label='train')\n",
    "plt.plot(val_losses, label='val')"
   ]
  },
  {
   "cell_type": "code",
   "execution_count": 13,
   "metadata": {},
   "outputs": [],
   "source": [
    "#save model\n",
    "save_folder = r'C:\\Users\\avido\\Documents\\other code\\AlgoTrading\\Modeling\\model_checkpoints'\n",
    "torch.save(model, os.path.join(save_folder, 'FullLinear_6_quartiles_100epochs.pth'))"
   ]
  },
  {
   "cell_type": "markdown",
   "metadata": {},
   "source": [
    "Show some examples from the test set"
   ]
  },
  {
   "cell_type": "code",
   "execution_count": 19,
   "metadata": {},
   "outputs": [
    {
     "data": {
      "text/plain": [
       "ResNet(\n",
       "  (conv1): Conv2d(7, 64, kernel_size=(7, 7), stride=(2, 2), padding=(3, 3), bias=False)\n",
       "  (bn1): BatchNorm2d(64, eps=1e-05, momentum=0.1, affine=True, track_running_stats=True)\n",
       "  (relu): ReLU(inplace=True)\n",
       "  (maxpool): MaxPool2d(kernel_size=3, stride=2, padding=1, dilation=1, ceil_mode=False)\n",
       "  (layer1): Sequential(\n",
       "    (0): BasicBlock(\n",
       "      (conv1): Conv2d(64, 64, kernel_size=(3, 3), stride=(1, 1), padding=(1, 1), bias=False)\n",
       "      (bn1): BatchNorm2d(64, eps=1e-05, momentum=0.1, affine=True, track_running_stats=True)\n",
       "      (relu): ReLU(inplace=True)\n",
       "      (conv2): Conv2d(64, 64, kernel_size=(3, 3), stride=(1, 1), padding=(1, 1), bias=False)\n",
       "      (bn2): BatchNorm2d(64, eps=1e-05, momentum=0.1, affine=True, track_running_stats=True)\n",
       "    )\n",
       "    (1): BasicBlock(\n",
       "      (conv1): Conv2d(64, 64, kernel_size=(3, 3), stride=(1, 1), padding=(1, 1), bias=False)\n",
       "      (bn1): BatchNorm2d(64, eps=1e-05, momentum=0.1, affine=True, track_running_stats=True)\n",
       "      (relu): ReLU(inplace=True)\n",
       "      (conv2): Conv2d(64, 64, kernel_size=(3, 3), stride=(1, 1), padding=(1, 1), bias=False)\n",
       "      (bn2): BatchNorm2d(64, eps=1e-05, momentum=0.1, affine=True, track_running_stats=True)\n",
       "    )\n",
       "  )\n",
       "  (layer2): Sequential(\n",
       "    (0): BasicBlock(\n",
       "      (conv1): Conv2d(64, 128, kernel_size=(3, 3), stride=(2, 2), padding=(1, 1), bias=False)\n",
       "      (bn1): BatchNorm2d(128, eps=1e-05, momentum=0.1, affine=True, track_running_stats=True)\n",
       "      (relu): ReLU(inplace=True)\n",
       "      (conv2): Conv2d(128, 128, kernel_size=(3, 3), stride=(1, 1), padding=(1, 1), bias=False)\n",
       "      (bn2): BatchNorm2d(128, eps=1e-05, momentum=0.1, affine=True, track_running_stats=True)\n",
       "      (downsample): Sequential(\n",
       "        (0): Conv2d(64, 128, kernel_size=(1, 1), stride=(2, 2), bias=False)\n",
       "        (1): BatchNorm2d(128, eps=1e-05, momentum=0.1, affine=True, track_running_stats=True)\n",
       "      )\n",
       "    )\n",
       "    (1): BasicBlock(\n",
       "      (conv1): Conv2d(128, 128, kernel_size=(3, 3), stride=(1, 1), padding=(1, 1), bias=False)\n",
       "      (bn1): BatchNorm2d(128, eps=1e-05, momentum=0.1, affine=True, track_running_stats=True)\n",
       "      (relu): ReLU(inplace=True)\n",
       "      (conv2): Conv2d(128, 128, kernel_size=(3, 3), stride=(1, 1), padding=(1, 1), bias=False)\n",
       "      (bn2): BatchNorm2d(128, eps=1e-05, momentum=0.1, affine=True, track_running_stats=True)\n",
       "    )\n",
       "  )\n",
       "  (layer3): Sequential(\n",
       "    (0): BasicBlock(\n",
       "      (conv1): Conv2d(128, 256, kernel_size=(3, 3), stride=(2, 2), padding=(1, 1), bias=False)\n",
       "      (bn1): BatchNorm2d(256, eps=1e-05, momentum=0.1, affine=True, track_running_stats=True)\n",
       "      (relu): ReLU(inplace=True)\n",
       "      (conv2): Conv2d(256, 256, kernel_size=(3, 3), stride=(1, 1), padding=(1, 1), bias=False)\n",
       "      (bn2): BatchNorm2d(256, eps=1e-05, momentum=0.1, affine=True, track_running_stats=True)\n",
       "      (downsample): Sequential(\n",
       "        (0): Conv2d(128, 256, kernel_size=(1, 1), stride=(2, 2), bias=False)\n",
       "        (1): BatchNorm2d(256, eps=1e-05, momentum=0.1, affine=True, track_running_stats=True)\n",
       "      )\n",
       "    )\n",
       "    (1): BasicBlock(\n",
       "      (conv1): Conv2d(256, 256, kernel_size=(3, 3), stride=(1, 1), padding=(1, 1), bias=False)\n",
       "      (bn1): BatchNorm2d(256, eps=1e-05, momentum=0.1, affine=True, track_running_stats=True)\n",
       "      (relu): ReLU(inplace=True)\n",
       "      (conv2): Conv2d(256, 256, kernel_size=(3, 3), stride=(1, 1), padding=(1, 1), bias=False)\n",
       "      (bn2): BatchNorm2d(256, eps=1e-05, momentum=0.1, affine=True, track_running_stats=True)\n",
       "    )\n",
       "  )\n",
       "  (layer4): Sequential(\n",
       "    (0): BasicBlock(\n",
       "      (conv1): Conv2d(256, 512, kernel_size=(3, 3), stride=(2, 2), padding=(1, 1), bias=False)\n",
       "      (bn1): BatchNorm2d(512, eps=1e-05, momentum=0.1, affine=True, track_running_stats=True)\n",
       "      (relu): ReLU(inplace=True)\n",
       "      (conv2): Conv2d(512, 512, kernel_size=(3, 3), stride=(1, 1), padding=(1, 1), bias=False)\n",
       "      (bn2): BatchNorm2d(512, eps=1e-05, momentum=0.1, affine=True, track_running_stats=True)\n",
       "      (downsample): Sequential(\n",
       "        (0): Conv2d(256, 512, kernel_size=(1, 1), stride=(2, 2), bias=False)\n",
       "        (1): BatchNorm2d(512, eps=1e-05, momentum=0.1, affine=True, track_running_stats=True)\n",
       "      )\n",
       "    )\n",
       "    (1): BasicBlock(\n",
       "      (conv1): Conv2d(512, 512, kernel_size=(3, 3), stride=(1, 1), padding=(1, 1), bias=False)\n",
       "      (bn1): BatchNorm2d(512, eps=1e-05, momentum=0.1, affine=True, track_running_stats=True)\n",
       "      (relu): ReLU(inplace=True)\n",
       "      (conv2): Conv2d(512, 512, kernel_size=(3, 3), stride=(1, 1), padding=(1, 1), bias=False)\n",
       "      (bn2): BatchNorm2d(512, eps=1e-05, momentum=0.1, affine=True, track_running_stats=True)\n",
       "    )\n",
       "  )\n",
       "  (avgpool): AdaptiveAvgPool2d(output_size=(1, 1))\n",
       "  (fc): Linear(in_features=512, out_features=5, bias=True)\n",
       ")"
      ]
     },
     "execution_count": 19,
     "metadata": {},
     "output_type": "execute_result"
    }
   ],
   "source": [
    "# load model\n",
    "save_folder = r'C:\\Users\\avido\\Documents\\other code\\AlgoTrading\\Modeling\\model_checkpoints'\n",
    "model = torch.load(os.path.join(save_folder, 'resnet_encoder_6_quartiles_2epochs.pth'))\n",
    "\n",
    "device = \"cuda\" if torch.cuda.is_available() else \"cpu\"\n",
    "model.to(device)"
   ]
  },
  {
   "cell_type": "code",
   "execution_count": 14,
   "metadata": {},
   "outputs": [],
   "source": [
    "test_ds_debug = ds.quartile_dataset(df=full_df[int(.9*len(full_df)):], in_winsize=in_window_size, out_winsize=out_window_size, out_key=out_key, in_keys=None, num_quartiles=num_quartiles, debug=True)"
   ]
  },
  {
   "cell_type": "code",
   "execution_count": 44,
   "metadata": {},
   "outputs": [
    {
     "name": "stdout",
     "output_type": "stream",
     "text": [
      "Quartiles: [0.05429597 0.42934407 0.49230141 0.61306214 1.11949602 1.18295553\n",
      " 1.71703567]\n",
      "Predicted: [[-2.5964696  -2.2477992  -1.9299593  -1.7565397  -1.5769852  -1.244706\n",
      "  -0.88026947]]\n"
     ]
    },
    {
     "data": {
      "image/png": "[encoded data removed]",
      "text/plain": [
       "<Figure size 640x480 with 1 Axes>"
      ]
     },
     "metadata": {},
     "output_type": "display_data"
    }
   ],
   "source": [
    "#plot random sample\n",
    "rand_idx = np.random.randint(0, len(test_ds_debug))\n",
    "\n",
    "x, y, _y = test_ds_debug[rand_idx]\n",
    "plt.plot(np.arange(len(x[3])), x[3])\n",
    "\n",
    "#also plot future segment and print the quartiles\n",
    "plt.plot(np.arange(len(x[3]), len(x[3])+len(_y)), _y)\n",
    "\n",
    "print('Quartiles:', y.numpy())\n",
    "\n",
    "model.eval()\n",
    "x, y = test_ds[rand_idx]\n",
    "y_hat = model(x.to(device).unsqueeze(0).to(torch.float32))\n",
    "print('Predicted:', y_hat.detach().cpu().numpy())"
   ]
  }
 ],
 "metadata": {
  "kernelspec": {
   "display_name": ".venv",
   "language": "python",
   "name": "python3"
  },
  "language_info": {
   "codemirror_mode": {
    "name": "ipython",
    "version": 3
   },
   "file_extension": ".py",
   "mimetype": "text/x-python",
   "name": "python",
   "nbconvert_exporter": "python",
   "pygments_lexer": "ipython3",
   "version": "3.8.10"
  }
 },
 "nbformat": 4,
 "nbformat_minor": 2
}
