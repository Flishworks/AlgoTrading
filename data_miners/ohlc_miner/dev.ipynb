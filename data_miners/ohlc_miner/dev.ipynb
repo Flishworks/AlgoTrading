{
 "cells": [
  {
   "cell_type": "code",
   "execution_count": 2,
   "metadata": {},
   "outputs": [],
   "source": [
    "import os\n",
    "import sys\n",
    "import krakenex\n",
    "from pykrakenapi import KrakenAPI\n",
    "api = krakenex.API()\n",
    "k = KrakenAPI(api)\n",
    "import time\n",
    "import config"
   ]
  },
  {
   "cell_type": "code",
   "execution_count": 22,
   "metadata": {},
   "outputs": [],
   "source": [
    "# using kraken API\n",
    "# only allows 720 rows to be returned at whatever interval is specified\n",
    "\n",
    "price_data, last = k.get_ohlc_data(\"ALGOUSD\", interval = 1)\n",
    "price_data\n",
    "file = 'test.csv'\n",
    "price_data.to_csv(file, mode = \"a+\", header = not os.path.exists(file))"
   ]
  },
  {
   "cell_type": "code",
   "execution_count": 3,
   "metadata": {},
   "outputs": [
    {
     "name": "stdout",
     "output_type": "stream",
     "text": [
      "SOLUSD scraped at1649913120\n",
      "ETHUSD scraped at1649913120\n",
      "BTCUSD scraped at1649913120\n",
      "ADAUSD scraped at1649913120\n",
      "ALGOUSD scraped at1649913120\n",
      "Failed processing ALGOUSD\n"
     ]
    }
   ],
   "source": [
    "throttle = 5\n",
    "try:\n",
    "    while True:\n",
    "        for symbol in config.symbols:\n",
    "            try:\n",
    "                price_data, last = k.get_ohlc_data(symbol, interval = 1)\n",
    "                file = os.path.join('..', 'data', 'scraped_OHLC', symbol + '.csv')\n",
    "                price_data.to_csv(file, mode = \"a+\", header = not os.path.exists(file))\n",
    "                print(symbol + \" scraped at \" + str(last))\n",
    "                time.sleep(throttle) #for API throttling. Accounted for in sleep beliw\n",
    "            except:\n",
    "                print(f\"Failed processing {symbol}\")\n",
    "        price_data\n",
    "        time.sleep(60*720 - throttle*len(config.symbols))\n",
    "except KeyboardInterrupt:\n",
    "    print >> sys.stderr, '\\nExiting by user request.\\n'\n",
    "    sys.exit(0)"
   ]
  },
  {
   "cell_type": "code",
   "execution_count": 3,
   "metadata": {},
   "outputs": [],
   "source": [
    "import requests\n",
    "def news_web_scraper(keyword):\n",
    "    #This function will return the number of hits for a given keyword\n",
    "    api = 'https://newsapi.org/v2/everything?q=' + keyword + '&apiKey=d8f9f8f8d9d34f9c9f9f9f9f9f9f9f9'\n",
    "    response = requests.get(api)\n",
    "    data = response.json()\n",
    "    return data\n",
    "    \n",
    "        \n",
    "def sentimentAnalysis(text):\n",
    "    \n"
   ]
  },
  {
   "cell_type": "code",
   "execution_count": 4,
   "metadata": {},
   "outputs": [],
   "source": [
    "result = news_web_scraper(\"keyword\")"
   ]
  },
  {
   "cell_type": "code",
   "execution_count": 5,
   "metadata": {},
   "outputs": [
    {
     "data": {
      "text/plain": [
       "{'status': 'error',\n",
       " 'code': 'apiKeyInvalid',\n",
       " 'message': 'Your API key is invalid or incorrect. Check your key, or go to https://newsapi.org to create a free API key.'}"
      ]
     },
     "execution_count": 5,
     "metadata": {},
     "output_type": "execute_result"
    }
   ],
   "source": [
    "result"
   ]
  }
 ],
 "metadata": {
  "interpreter": {
   "hash": "e04f4e45490e81c8e425fbe41d571ef051a91277f5adb970b41573a4522cfa4c"
  },
  "kernelspec": {
   "display_name": "Python 3.9.7 64-bit",
   "language": "python",
   "name": "python3"
  },
  "language_info": {
   "codemirror_mode": {
    "name": "ipython",
    "version": 3
   },
   "file_extension": ".py",
   "mimetype": "text/x-python",
   "name": "python",
   "nbconvert_exporter": "python",
   "pygments_lexer": "ipython3",
   "version": "3.9.7"
  },
  "orig_nbformat": 4
 },
 "nbformat": 4,
 "nbformat_minor": 2
}
