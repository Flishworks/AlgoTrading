{
 "cells": [
  {
   "cell_type": "code",
   "execution_count": null,
   "metadata": {},
   "outputs": [],
   "source": [
    "%load_ext autoreload\n",
    "%autoreload 2\n",
    "\n",
    "import pandas as pd\n",
    "import matplotlib.pyplot as plt\n",
    "import plotly.express as px\n",
    "import numpy as np\n",
    "import os\n",
    "import strategy_simulator as ss"
   ]
  },
  {
   "cell_type": "markdown",
   "metadata": {},
   "source": [
    "### Load and process data"
   ]
  },
  {
   "cell_type": "code",
   "execution_count": null,
   "metadata": {},
   "outputs": [],
   "source": [
    "price_data = pd.read_csv(os.path.join('..', 'data', 'scraped_OHLC', 'BTCUSD.csv'))\n",
    "price_data['dtime'] = pd.to_datetime(price_data['dtime'], format='%Y-%m-%d %H:%M:%S')\n",
    "price_data.set_index('dtime', inplace = True)\n",
    "price_data.dropna(inplace = True)\n",
    "\n",
    "# price_data = pd.read_pickle(os.path.join('..', 'data', 'SOL', \"SOLUSD_price-volume_minute.pickle\"))\n",
    "# price_data\n",
    "\n",
    "price_data "
   ]
  },
  {
   "cell_type": "code",
   "execution_count": null,
   "metadata": {},
   "outputs": [],
   "source": [
    "plt.plot(price_data['open'])\n",
    "plt.show()\n",
    "price_data_hourly = price_data.resample('1H').mean().fillna(method='ffill')\n",
    "plt.plot(price_data_hourly['open'])\n",
    "plt.show()"
   ]
  },
  {
   "cell_type": "code",
   "execution_count": null,
   "metadata": {},
   "outputs": [],
   "source": [
    "x_new = [price_data_hourly['open'].iloc[0]]\n",
    "for i in range(len(price_data_hourly) - 1):\n",
    "    price = price_data_hourly['open'].iloc[i+1]\n",
    "    x_new.append(ss.exponential_moving_average(price, x_new[-1], 0.05))\n",
    "\n",
    "price_data_hourly['mean'] = x_new\n",
    "fig = px.line(price_data_hourly[-1000:], y=['open', 'mean'])\n",
    "fig.show()\n",
    "\n"
   ]
  },
  {
   "cell_type": "markdown",
   "metadata": {},
   "source": [
    "### Test strategies using trade simulator"
   ]
  },
  {
   "cell_type": "code",
   "execution_count": null,
   "metadata": {},
   "outputs": [],
   "source": [
    "last_n = len(price_data_hourly)\n",
    "\n",
    "\n",
    "s1 = ss.hodl()\n",
    "s2 = ss.DCA(period = last_n/10, amount = 10)\n",
    "s3 = ss.randomDCA(period = last_n/10, amount = 10)\n",
    "s4 = ss.percentage_from_mean(avg_start = price_data_hourly['open'].iloc[-last_n])\n",
    "s5 = ss.maintain_investment()\n",
    "plt.plot(price_data_hourly[-last_n:]['open'].reset_index(drop = True))\n",
    "plt.show()\n",
    "\n",
    "strategies = [s1, s2, s3, s4, s5]\n",
    "\n",
    "for s in strategies:\n",
    "    sim = ss.trade_simulator(price_data_hourly[-last_n:]['open'].reset_index(drop = True))\n",
    "    sim.run(s)\n",
    "    plt.plot(sim.invested_ot)\n",
    "    plt.show()"
   ]
  },
  {
   "cell_type": "code",
   "execution_count": null,
   "metadata": {},
   "outputs": [],
   "source": [
    "last_n = 2000 #len(resampled)\n",
    "strategy = ss.maintain_investment()\n",
    "sim = sim = ss.trade_simulator(price_data_hourly[-last_n:]['open'].reset_index(drop = True))\n",
    "sim.run(strategy)\n",
    "    \n",
    "\n",
    "plt.plot(price_data_hourly[-last_n:]['open'].reset_index(drop = True))\n",
    "plt.show()\n",
    "plt.plot(sim.invested_ot)\n",
    "# plt.plot(sim.reserves)\n",
    "plt.show()"
   ]
  },
  {
   "cell_type": "code",
   "execution_count": null,
   "metadata": {},
   "outputs": [],
   "source": [
    "last_n = len(price_data_hourly)\n",
    "strategy = ss.slow_fast_avg(avg_start = price_data_hourly['open'].iloc[-last_n], beta_slow = 0.1, beta_fast = 0.3, trade_amount = 1000)\n",
    "sim = sim = ss.trade_simulator(price_data_hourly[-last_n:]['open'].reset_index(drop = True))\n",
    "sim.run(strategy)\n",
    "    \n",
    "\n",
    "# plt.plot(price_data_hourly[-last_n:]['price'].reset_index(drop = True))\n",
    "# plt.plot(strategy.avg_fast_ot)\n",
    "# plt.plot(strategy.avg_slow_ot)\n",
    "# plt.show()\n",
    "# plt.plot(sim.invested_ot)\n",
    "# # plt.plot(sim.reserves)\n",
    "# plt.show()\n",
    "\n",
    "temp = price_data_hourly[-last_n:]\n",
    "temp['fast_avg'] = strategy.avg_fast_ot\n",
    "temp['slow_avg'] = strategy.avg_slow_ot\n",
    "temp['trade'] = (sim.invested_ot > np.mean(sim.invested_ot)) *1000 + temp['open'].mean()\n",
    "fig = px.line(temp, y=['open', 'fast_avg', 'slow_avg', 'trade'])\n",
    "fig.show()\n"
   ]
  },
  {
   "cell_type": "code",
   "execution_count": null,
   "metadata": {},
   "outputs": [],
   "source": [
    "last_n = len(price_data_hourly)\n",
    "# strategy = ss.slow_fast_avg(avg_start = price_data_hourly['price'].iloc[-last_n], beta_slow = 0.1, beta_fast = 0.3, trade_amount = 1000)\n",
    "strategy = ss.avg_derivitive(avg_start = price_data_hourly['open'].iloc[-last_n], beta = 0.1)\n",
    "sim = sim = ss.trade_simulator(price_data_hourly[-last_n:]['open'].reset_index(drop = True))\n",
    "sim.run(strategy)\n",
    "\n",
    "temp = price_data_hourly[-last_n:]\n",
    "temp['avg'] = strategy.avg_ot\n",
    "temp['invested'] = sim.invested_ot\n",
    "fig = px.line(temp, y=['open', 'avg'])\n",
    "fig.show()\n",
    "fig = px.line(temp, y=['invested'])\n",
    "fig.show()\n"
   ]
  },
  {
   "cell_type": "code",
   "execution_count": null,
   "metadata": {},
   "outputs": [],
   "source": [
    "last_n = int(len(price_data_hourly))\n",
    "# strategy = ss.slow_fast_avg(avg_start = price_data_hourly['price'].iloc[-last_n], beta_slow = 0.1, beta_fast = 0.3, trade_amount = 1000)\n",
    "strategy = ss.opportunistic(avg_start = price_data_hourly['open'].iloc[-last_n], beta = 0.05, thresh_percent = .05, trade_amount = 1)\n",
    "sim = sim = ss.trade_simulator(price_data_hourly[-last_n:]['open'].reset_index(drop = True))\n",
    "sim.run(strategy)\n",
    "\n",
    "temp = price_data_hourly[-last_n:]\n",
    "temp['avg'] = strategy.avg_ot\n",
    "temp['invested'] = sim.invested_ot\n",
    "fig = px.line(temp, y=['open', 'avg'])\n",
    "fig.show()\n",
    "fig = px.line(temp, y=['invested'])\n",
    "fig.show()\n",
    "\n"
   ]
  },
  {
   "cell_type": "code",
   "execution_count": null,
   "metadata": {},
   "outputs": [],
   "source": [
    "last_n = len(price_data_hourly)\n",
    "# strategy = ss.slow_fast_avg(avg_start = price_data_hourly['price'].iloc[-last_n], beta_slow = 0.1, beta_fast = 0.3, trade_amount = 1000)\n",
    "strategy = ss.momentum(trade_amount = .1,trade_cap=1 )\n",
    "sim = sim = ss.trade_simulator(price_data_hourly[-last_n:]['open'].reset_index(drop = True))\n",
    "sim.run(strategy)\n",
    "\n",
    "temp = price_data_hourly[-last_n:]\n",
    "temp['invested'] = sim.invested_ot\n",
    "fig = px.line(temp, y=['open'])\n",
    "fig.show()\n",
    "fig = px.line(temp, y=['invested'])\n",
    "fig.show()"
   ]
  }
 ],
 "metadata": {
  "kernelspec": {
   "display_name": "Python 3.9.7 64-bit",
   "language": "python",
   "name": "python3"
  },
  "language_info": {
   "codemirror_mode": {
    "name": "ipython",
    "version": 3
   },
   "file_extension": ".py",
   "mimetype": "text/x-python",
   "name": "python",
   "nbconvert_exporter": "python",
   "pygments_lexer": "ipython3",
   "version": "3.9.7"
  },
  "orig_nbformat": 4,
  "vscode": {
   "interpreter": {
    "hash": "476847017c7ce48826a38d81f9774e0266f3dcf3ccbd82b484d53609552873f9"
   }
  }
 },
 "nbformat": 4,
 "nbformat_minor": 2
}
