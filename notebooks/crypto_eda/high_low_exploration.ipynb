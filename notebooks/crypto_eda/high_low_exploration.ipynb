{
 "cells": [
  {
   "cell_type": "code",
   "execution_count": 2,
   "metadata": {},
   "outputs": [],
   "source": [
    "%load_ext autoreload\n",
    "%autoreload 2\n",
    "\n",
    "\n",
    "import pandas as pd\n",
    "import plotly.express as px\n",
    "import os\n",
    "import plotly.express as px\n",
    "import sys\n",
    "sys.path.append(r'C:\\Users\\avido\\Documents\\other code\\AlgoTrading')\n",
    "import utils\n",
    "#change aspect of plot\n",
    "\n"
   ]
  },
  {
   "attachments": {},
   "cell_type": "markdown",
   "metadata": {},
   "source": [
    "question: is the relationship between o/h/l/c predictive?"
   ]
  },
  {
   "cell_type": "code",
   "execution_count": 3,
   "metadata": {},
   "outputs": [],
   "source": [
    "#open and combine all data\n",
    "\n",
    "base_key = 'BTCUSD'\n",
    "other_keys =('ETHUSD', 'SOLUSD', 'DOTUSD', 'ADAUSD', 'ALGOUSD')\n",
    "full_df = pd.read_csv(os.path.join('..', 'data', 'scraped_OHLC_7-13-2023', base_key+'.csv'))\n",
    "full_df['dtime'] = pd.to_datetime(full_df['dtime'], format='%Y-%m-%d %H:%M:%S')\n",
    "full_df.set_index('dtime', inplace = True)\n",
    "full_df.drop(columns=['time'], inplace=True)\n",
    "full_df = full_df.add_prefix(base_key+'_')\n",
    "\n",
    "for key in other_keys:\n",
    "    price_data = pd.read_csv(os.path.join('..', 'data', 'scraped_OHLC_7-13-2023', key+'.csv'))\n",
    "    price_data['dtime'] = pd.to_datetime(price_data['dtime'], format='%Y-%m-%d %H:%M:%S')\n",
    "    price_data.set_index('dtime', inplace = True)\n",
    "    price_data.drop(columns=['time'], inplace=True)\n",
    "    price_data = price_data.add_prefix(key+'_')\n",
    "    full_df = pd.merge_asof(full_df, price_data, left_index=True, right_index=True, direction='nearest')\n",
    "\n",
    "full_df.dropna(inplace=True, axis=0, how='all')"
   ]
  },
  {
   "cell_type": "code",
   "execution_count": null,
   "metadata": {},
   "outputs": [],
   "source": [
    "full_df"
   ]
  },
  {
   "cell_type": "code",
   "execution_count": null,
   "metadata": {},
   "outputs": [],
   "source": [
    "px.line(utils.ohlc_resampler(full_df, freq='4H', round = True, fill='ffill'), y=['BTCUSD_close', 'BTCUSD_high', 'BTCUSD_low'])"
   ]
  },
  {
   "attachments": {},
   "cell_type": "markdown",
   "metadata": {},
   "source": [
    "from the above, maybe something based on difference between close, high and low."
   ]
  }
 ],
 "metadata": {
  "kernelspec": {
   "display_name": ".venv",
   "language": "python",
   "name": "python3"
  },
  "language_info": {
   "codemirror_mode": {
    "name": "ipython",
    "version": 3
   },
   "file_extension": ".py",
   "mimetype": "text/x-python",
   "name": "python",
   "nbconvert_exporter": "python",
   "pygments_lexer": "ipython3",
   "version": "3.8.10"
  },
  "orig_nbformat": 4,
  "vscode": {
   "interpreter": {
    "hash": "95302df5b090e4cdf13ef4e6809604bf59628be4800c1261298aea43e849d068"
   }
  }
 },
 "nbformat": 4,
 "nbformat_minor": 2
}
