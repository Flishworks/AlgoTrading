{
 "cells": [
  {
   "cell_type": "code",
   "execution_count": 1,
   "metadata": {},
   "outputs": [],
   "source": [
    "%load_ext autoreload\n",
    "%autoreload 2\n",
    "\n",
    "import pandas as pd\n",
    "import matplotlib.pyplot as plt\n",
    "import numpy as np\n",
    "import os\n",
    "import itertools\n",
    "\n",
    "import sys\n",
    "sys.path.append(r'C:\\Users\\avido\\Documents\\other code\\AlgoTrading')\n",
    "import utils\n",
    "\n",
    "\n"
   ]
  },
  {
   "attachments": {},
   "cell_type": "markdown",
   "metadata": {},
   "source": [
    "Question: Can we use the correlation between two series to predict the value of one from the other with any meaningful lead?"
   ]
  },
  {
   "cell_type": "code",
   "execution_count": 4,
   "metadata": {},
   "outputs": [],
   "source": [
    "#open and combine all data\n",
    "\n",
    "base_key = 'BTCUSD'\n",
    "other_keys =('ETHUSD', 'SOLUSD', 'DOTUSD', 'ADAUSD', 'ALGOUSD')\n",
    "full_df = pd.read_csv(os.path.join('..', 'data', 'scraped_OHLC', base_key+'.csv'))\n",
    "full_df['dtime'] = pd.to_datetime(full_df['dtime'], format='%Y-%m-%d %H:%M:%S')\n",
    "full_df.set_index('dtime', inplace = True)\n",
    "full_df.drop(columns=['time'], inplace=True)\n",
    "full_df = full_df.add_prefix(base_key+'_')\n",
    "\n",
    "for key in other_keys:\n",
    "    price_data = pd.read_csv(os.path.join('..', 'data', 'scraped_OHLC', key+'.csv'))\n",
    "    price_data['dtime'] = pd.to_datetime(price_data['dtime'], format='%Y-%m-%d %H:%M:%S')\n",
    "    price_data.set_index('dtime', inplace = True)\n",
    "    price_data.drop(columns=['time'], inplace=True)\n",
    "    price_data = price_data.add_prefix(key+'_')\n",
    "    full_df = pd.merge_asof(full_df, price_data, left_index=True, right_index=True, direction='nearest')\n",
    "\n",
    "full_df.dropna(inplace=True, axis=0, how='all')"
   ]
  },
  {
   "cell_type": "code",
   "execution_count": null,
   "metadata": {},
   "outputs": [],
   "source": [
    "plt.rcParams['figure.figsize'] = [20, 4]\n",
    "\n",
    "ohlc_key = 'close'\n",
    "all_keys = [base_key] + list(other_keys)\n",
    "\n",
    "for key in all_keys:\n",
    "    plt.plot(utils.normalize_by_start(full_df[key + '_' + ohlc_key][-60*24*30:]))\n",
    "plt.legend(all_keys)\n",
    "plt.show()"
   ]
  },
  {
   "cell_type": "code",
   "execution_count": null,
   "metadata": {},
   "outputs": [],
   "source": [
    "key_combinations = list(itertools.combinations(all_keys, 2))\n",
    "key_combinations"
   ]
  },
  {
   "cell_type": "code",
   "execution_count": null,
   "metadata": {},
   "outputs": [],
   "source": [
    "keys_to_corr = ('BTCUSD', 'ETHUSD')\n",
    "outer_segment_size = 60\n",
    "corr_range = 5 #must be less than outer_segment_size / /2\n",
    "\n",
    "results = {}\n",
    "seg_start = 0\n",
    "seg_end = outer_segment_size\n",
    "results = {\n",
    "    'max_cross_corr' : [],\n",
    "    'idx_max_cross_corr' : [],\n",
    "    }\n",
    "while seg_end < len(full_df):\n",
    "    seg_a = full_df[keys_to_corr[0] + '_' + ohlc_key][seg_start:seg_end].copy()\n",
    "    seg_a -= np.mean(seg_a)\n",
    "    seg_a /= np.std(seg_a)\n",
    "    seg_b = full_df[keys_to_corr[1] + '_' + ohlc_key][seg_start + corr_range:seg_end - corr_range].copy()\n",
    "    seg_b -= np.mean(seg_b)\n",
    "    seg_b /= np.std(seg_b)\n",
    "    cross_cor = np.correlate(seg_a, seg_b, 'valid')\n",
    "    max_cross_corr = np.max(cross_cor)\n",
    "    normalized = max_cross_corr / np.sqrt(np.sum(seg_a**2) * np.sum(seg_b**2))\n",
    "    idx_max_cross_corr = np.argmax(cross_cor) - corr_range\n",
    "    results['max_cross_corr'].append(max_cross_corr)\n",
    "    results['idx_max_cross_corr'].append(idx_max_cross_corr)\n",
    "    seg_start += outer_segment_size // 4\n",
    "    seg_end += outer_segment_size // 4\n",
    "        \n",
    "    "
   ]
  },
  {
   "cell_type": "code",
   "execution_count": null,
   "metadata": {},
   "outputs": [],
   "source": [
    "plt.rcParams['figure.figsize'] = [20, 4]\n",
    "\n",
    "x = np.arange(len(results['max_cross_corr']))\n",
    "\n",
    "plt.scatter(x, results['idx_max_cross_corr'], alpha=0.005)\n",
    "plt.show()\n",
    "plt.scatter(x[np.array(results['idx_max_cross_corr']) != 0], np.array(results['max_cross_corr'])[np.array(results['idx_max_cross_corr']) != 0], alpha=0.05)\n",
    "plt.show()"
   ]
  },
  {
   "cell_type": "code",
   "execution_count": null,
   "metadata": {},
   "outputs": [],
   "source": [
    "plt.rcParams['figure.figsize'] = [5, 5]\n",
    "plt.scatter(results['idx_max_cross_corr'], results['max_cross_corr'], alpha=0.01)\n",
    "plt.show()\n"
   ]
  },
  {
   "cell_type": "code",
   "execution_count": null,
   "metadata": {},
   "outputs": [],
   "source": [
    "plt.rcParams['figure.figsize'] = [10, 5]\n",
    "plt.hist(results['idx_max_cross_corr'], bins = 100, range = (-corr_range , corr_range ))\n",
    "plt.show()\n",
    "plt.hist(results['max_cross_corr'], bins = 100)\n",
    "plt.show()\n"
   ]
  },
  {
   "attachments": {},
   "cell_type": "markdown",
   "metadata": {},
   "source": [
    "looks like there is a significant proportion of time where there is a ~1 minute offset in max correlation. this would likely be hard to capitalize on though. I also still dont unsderstand why the boundaries are showing higher values."
   ]
  }
 ],
 "metadata": {
  "kernelspec": {
   "display_name": ".venv",
   "language": "python",
   "name": "python3"
  },
  "language_info": {
   "codemirror_mode": {
    "name": "ipython",
    "version": 3
   },
   "file_extension": ".py",
   "mimetype": "text/x-python",
   "name": "python",
   "nbconvert_exporter": "python",
   "pygments_lexer": "ipython3",
   "version": "3.8.10"
  },
  "orig_nbformat": 4,
  "vscode": {
   "interpreter": {
    "hash": "95302df5b090e4cdf13ef4e6809604bf59628be4800c1261298aea43e849d068"
   }
  }
 },
 "nbformat": 4,
 "nbformat_minor": 2
}
