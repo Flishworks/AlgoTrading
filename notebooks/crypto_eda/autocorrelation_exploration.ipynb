{
 "cells": [
  {
   "cell_type": "code",
   "execution_count": 2,
   "metadata": {},
   "outputs": [],
   "source": [
    "%load_ext autoreload\n",
    "%autoreload 2\n",
    "\n",
    "import pandas as pd\n",
    "import matplotlib.pyplot as plt\n",
    "import numpy as np\n",
    "import os\n",
    "import itertools\n",
    "from datetime import datetime, timedelta\n",
    "\n",
    "\n",
    "import sys\n",
    "sys.path.append(r'C:\\Users\\avido\\Documents\\other code\\AlgoTrading')\n",
    "import utils\n",
    "\n",
    "\n"
   ]
  },
  {
   "cell_type": "code",
   "execution_count": 3,
   "metadata": {},
   "outputs": [],
   "source": [
    "#open and combine all data\n",
    "coin = 'BTCUSD'\n",
    "\n",
    "full_df = pd.read_csv(os.path.join('..', 'data', 'scraped_OHLC_10-23-2024', coin+'.csv'))\n",
    "full_df['dtime'] = pd.to_datetime(full_df['dtime'], format='%Y-%m-%d %H:%M:%S')\n",
    "full_df.set_index('dtime', inplace = True)\n",
    "full_df.drop(columns=['time'], inplace=True)\n",
    "\n",
    "full_df.dropna(inplace=True, axis=0, how='all')"
   ]
  },
  {
   "cell_type": "markdown",
   "metadata": {},
   "source": [
    "autocorrelation"
   ]
  },
  {
   "cell_type": "code",
   "execution_count": null,
   "metadata": {},
   "outputs": [],
   "source": [
    "resample_freqs = ['1min', '10min', '1H', '4H'] #, '24H', '7D']\n",
    "coin = 'BTCUSD'\n",
    "ohlc_key = 'close'\n",
    "lags = np.arange(1, 25, 1)\n",
    "\n",
    "\n",
    "for freq in resample_freqs:\n",
    "    resample_df = utils.ohlc_resampler(full_df, freq=freq, round = True, fill='ffill')\n",
    "    autocorr = [resample_df[ohlc_key].autocorr(lag=lag) for lag in lags]\n",
    "    plt.plot(lags, autocorr, label=freq)\n",
    "    \n",
    "plt.legend()\n",
    "plt.title('Autocorrelation of '+coin+' '+ohlc_key)"
   ]
  },
  {
   "cell_type": "code",
   "execution_count": null,
   "metadata": {},
   "outputs": [],
   "source": [
    "from datetime import datetime, timedelta\n",
    "\n",
    "ohlc_key = 'close'\n",
    "\n",
    "resample_freqs = ['1min', '10min', '1H'] #, '4H', '24H'] #, '7D']\n",
    "lags = np.arange(1, 100, 1)\n",
    "lookback = 30 #lookback in days\n",
    "\n",
    "def subtract_ma(df, window):\n",
    "    return df - df.rolling(window=window).mean()\n",
    "\n",
    "def calc_autocor(sig, lag):\n",
    "    #replace nans with mean\n",
    "    sig = sig.fillna(sig.mean())\n",
    "    return np.corrcoef(sig[:-lag], sig[lag:])[0,1]\n",
    "\n",
    "df_lookback = full_df[datetime.now()-timedelta(days=lookback):]\n",
    "df_lookback = subtract_ma(df_lookback, 500)\n",
    "\n",
    "for freq in resample_freqs:\n",
    "    resample_df = utils.ohlc_resampler(df_lookback, freq=freq, round = True, fill='ffill')\n",
    "    plt.plot(df_lookback[ohlc_key])\n",
    "plt.show()\n",
    "    \n",
    "for freq in resample_freqs:\n",
    "    resample_df = utils.ohlc_resampler(df_lookback, freq=freq, round = True, fill='ffill')\n",
    "    autocorr = [calc_autocor(resample_df[ohlc_key], lag) for lag in lags]\n",
    "    plt.plot(lags, autocorr, label=freq)\n",
    "    \n",
    "plt.legend()\n",
    "plt.title('Autocorrelation of '+coin+' '+ohlc_key)"
   ]
  },
  {
   "cell_type": "code",
   "execution_count": null,
   "metadata": {},
   "outputs": [],
   "source": [
    "coin = 'BTCUSD'\n",
    "ohlc_key = 'close'\n",
    "\n",
    "freq = '24H'\n",
    "lags = np.arange(1, 7*4, 1)\n",
    "resample_df = utils.ohlc_resampler(full_df, freq=freq, round = True, fill='ffill')\n",
    "autocorr = [resample_df[ohlc_key].diff().autocorr(lag=lag) for lag in lags]\n",
    "plt.plot(lags, autocorr, label=freq)\n",
    "\n",
    "freq = '4H'\n",
    "lags = np.arange(1, 7*4*6, 1)\n",
    "resample_df = utils.ohlc_resampler(full_df, freq=freq, round = True, fill='ffill')\n",
    "autocorr = [resample_df[ohlc_key].diff().autocorr(lag=lag) for lag in lags]\n",
    "plt.plot(lags / 6, autocorr, label=freq, alpha=0.5)\n",
    "\n",
    "freq = '1H'\n",
    "lags = np.arange(1, 7*4*24, 1)\n",
    "resample_df = utils.ohlc_resampler(full_df, freq=freq, round = True, fill='ffill')\n",
    "autocorr = [resample_df[ohlc_key].diff().autocorr(lag=lag) for lag in lags]\n",
    "plt.plot(lags / 24, autocorr, label=freq, alpha=0.5)\n",
    "    \n",
    "plt.legend()\n",
    "plt.title('Autocorrelation of '+coin+' '+ohlc_key)"
   ]
  },
  {
   "cell_type": "markdown",
   "metadata": {},
   "source": [
    "repeated autocorrelation"
   ]
  },
  {
   "cell_type": "code",
   "execution_count": null,
   "metadata": {},
   "outputs": [],
   "source": [
    "\n",
    "freq = '1H'\n",
    "lookback = 30 #lookback in days\n",
    "detrend_window = 100\n",
    "\n",
    "df_lookback = full_df[datetime.now()-timedelta(days=lookback):]\n",
    "df_lookback = subtract_ma(df_lookback, detrend_window)\n",
    "\n",
    "resample_df = utils.ohlc_resampler(df_lookback, freq=freq, round = True, fill='ffill')\n",
    "\n",
    "def normalize(sig):\n",
    "    return (sig - sig.mean()) / sig.std()\n",
    "\n",
    "signal = resample_df[ohlc_key].dropna().values\n",
    "plt.plot(signal)\n",
    "plt.show()\n",
    "\n",
    "autocor = np.correlate(signal, signal, mode='same')\n",
    "plt.plot(normalize(autocor))\n",
    "for i in range(3):\n",
    "    autocor = np.correlate(autocor, autocor, mode='same')\n",
    "    plt.plot(normalize(autocor), alpha=0.5)\n",
    "plt.show()\n",
    "    \n",
    "#plot fft\n",
    "\n"
   ]
  },
  {
   "cell_type": "code",
   "execution_count": null,
   "metadata": {},
   "outputs": [],
   "source": [
    "plt.plot(resample_df[coin+'_'+ohlc_key].values)\n",
    "plt.plot(moving_average)"
   ]
  },
  {
   "cell_type": "markdown",
   "metadata": {},
   "source": [
    "autocorrelation of distance from moving average"
   ]
  },
  {
   "cell_type": "code",
   "execution_count": null,
   "metadata": {},
   "outputs": [],
   "source": [
    "resample_freqs = ['4h'] #'1min', '10min', '1H', '4H', '24H']\n",
    "coin = 'BTCUSD'\n",
    "ohlc_key = 'close'\n",
    "lags = np.arange(1, 30, 1)\n",
    "\n",
    "\n",
    "for freq in resample_freqs:\n",
    "    resample_df = utils.ohlc_resampler(full_df, freq=freq, round = True, fill='ffill')\n",
    "    moving_average = resample_df[coin+'_'+ohlc_key].rolling(window=10).mean()\n",
    "    autocorr = [(resample_df[coin+'_'+ohlc_key] - moving_average).autocorr(lag=lag) for lag in lags]\n",
    "    plt.plot(lags, autocorr, label=freq)\n",
    "    \n",
    "plt.legend()\n",
    "plt.title('Autocorrelation of '+coin+' '+ohlc_key)\n",
    "plt.show()\n",
    "\n",
    "plt.plot(resample_df[coin+'_'+ohlc_key][1000:1100])\n",
    "plt.plot(moving_average[1000:1100])"
   ]
  },
  {
   "cell_type": "code",
   "execution_count": null,
   "metadata": {},
   "outputs": [],
   "source": [
    "plt.rcParams['figure.figsize'] = [20, 4]\n",
    "\n",
    "ohlc_key = 'close'\n",
    "all_keys = [base_key] + list(other_keys)\n",
    "\n",
    "for key in all_keys:\n",
    "    plt.plot(utils.normalize_by_start(full_df[key + '_' + ohlc_key][-60*24*10:]))\n",
    "plt.legend(all_keys)\n",
    "plt.show()"
   ]
  },
  {
   "cell_type": "code",
   "execution_count": null,
   "metadata": {},
   "outputs": [],
   "source": [
    "df_1h = utils.ohlc_resampler(full_df, freq='1H', round = True, fill='ffill')\n",
    "\n",
    "plt.rcParams['figure.figsize'] = [20, 4]\n",
    "\n",
    "ohlc_key = 'close'\n",
    "all_keys = [base_key] + list(other_keys)\n",
    "\n",
    "for key in all_keys:\n",
    "    plt.plot(utils.normalize_by_start(df_1h[key + '_' + ohlc_key][-24:]))\n",
    "plt.legend(all_keys)\n",
    "plt.show()"
   ]
  },
  {
   "cell_type": "code",
   "execution_count": null,
   "metadata": {},
   "outputs": [],
   "source": [
    "resample_freqs = ['1min', '10min', '1H', '4H', '24H', '1D']\n",
    "coin = 'SOLUSD'\n",
    "ohlc_key = 'close'\n",
    "\n",
    "for freq in resample_freqs:\n",
    "    resample_df = utils.ohlc_resampler(full_df, freq=freq, round = True, fill='ffill')\n",
    "    diffs = (np.diff(resample_df[key + '_' + ohlc_key].values) > 0).astype(int) * 2 - 1\n",
    "    autocorr = np.dot(diffs[:-1], diffs[1:]) / len(diffs)\n",
    "    print(freq, autocorr)\n",
    "    "
   ]
  },
  {
   "cell_type": "code",
   "execution_count": null,
   "metadata": {},
   "outputs": [],
   "source": [
    "resample_freqs = ['1min', '10min', '1H', '4H', '24H', '1D']\n",
    "coin = 'SOLUSD'\n",
    "ohlc_key = 'close'\n",
    "\n",
    "for freq in resample_freqs:\n",
    "    resample_df = utils.ohlc_resampler(full_df, freq=freq, round = True, fill='ffill')\n",
    "    diffs = (np.diff(resample_df[key + '_' + ohlc_key].values) > 0).astype(int)\n",
    "    diffs = (diffs - np.mean(diffs)) / np.std(diffs)\n",
    "    autocorr = np.dot(diffs[:-1], diffs[1:]) / len(diffs)\n",
    "    print(freq, autocorr)\n",
    "    "
   ]
  },
  {
   "cell_type": "code",
   "execution_count": null,
   "metadata": {},
   "outputs": [],
   "source": [
    "resample_freqs = ['10min', '1H', '4H', '24H', '1D']\n",
    "coin = 'SOLUSD'\n",
    "ohlc_key = 'close'\n",
    "\n",
    "for freq in resample_freqs:\n",
    "    resample_df = utils.ohlc_resampler(full_df, freq=freq, round = True, fill='ffill')\n",
    "    diffs = (np.diff(resample_df[key + '_' + ohlc_key].values) > 0).astype(int)\n",
    "    autocorr = np.corrcoef(diffs[:-1], diffs[1:])[0,1]\n",
    "    print(freq, autocorr)\n",
    "    "
   ]
  },
  {
   "cell_type": "code",
   "execution_count": null,
   "metadata": {},
   "outputs": [],
   "source": [
    "resample_freqs = ['1min', '10min', '1H', '4H', '24H', '1D']\n",
    "coin = 'SOLUSD'\n",
    "ohlc_key = 'close'\n",
    "\n",
    "for freq in resample_freqs:\n",
    "    resample_df = utils.ohlc_resampler(full_df, freq=freq, round = True, fill='ffill')\n",
    "    diffs = resample_df[key + '_' + ohlc_key].diff().dropna()\n",
    "    autocorr = np.dot(diffs[:-1], diffs[1:]) / len(diffs)\n",
    "    print(freq, autocorr)"
   ]
  }
 ],
 "metadata": {
  "kernelspec": {
   "display_name": ".venv",
   "language": "python",
   "name": "python3"
  },
  "language_info": {
   "codemirror_mode": {
    "name": "ipython",
    "version": 3
   },
   "file_extension": ".py",
   "mimetype": "text/x-python",
   "name": "python",
   "nbconvert_exporter": "python",
   "pygments_lexer": "ipython3",
   "version": "3.8.10"
  },
  "orig_nbformat": 4,
  "vscode": {
   "interpreter": {
    "hash": "95302df5b090e4cdf13ef4e6809604bf59628be4800c1261298aea43e849d068"
   }
  }
 },
 "nbformat": 4,
 "nbformat_minor": 2
}
