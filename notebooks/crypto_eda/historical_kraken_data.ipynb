{
 "cells": [
  {
   "cell_type": "code",
   "execution_count": 1,
   "metadata": {},
   "outputs": [],
   "source": [
    "%load_ext autoreload\n",
    "%autoreload 2\n",
    "\n",
    "import pandas as pd\n",
    "import matplotlib.pyplot as plt\n",
    "import plotly.express as px\n",
    "import numpy as np\n",
    "import os\n",
    "import plotly.express as px\n",
    "\n",
    "import sys\n",
    "sys.path.append('..')\n",
    "import utils\n",
    "#change aspect of plot\n"
   ]
  },
  {
   "cell_type": "code",
   "execution_count": 2,
   "metadata": {},
   "outputs": [],
   "source": [
    "scraped_ETH = pd.read_csv(r'C:\\Users\\avido\\Documents\\other code\\AlgoTrading\\data\\scraped_OHLC_3-17-2023\\ETHUSD.csv')\n",
    "scraped_ETH.index = pd.to_datetime(scraped_ETH['time'], unit='s')\n",
    "scraped_ETH_hourly = utils.ohlc_resampler(scraped_ETH, '1H', round = True, fill='ffill')\n",
    "kraken_historical_ETH = pd.read_csv(r'C:\\Users\\avido\\Documents\\other code\\AlgoTrading\\data\\kraken_historical_OHLC\\ETH_OHLCVT\\ETHUSD_1.csv', header=None, names=['time', 'open', 'high', 'low', 'close', 'volume', 'count'])\n",
    "kraken_historical_ETH.index = pd.to_datetime(kraken_historical_ETH['time'], unit='s')\n",
    "kraken_historical_ETH_hourly = utils.ohlc_resampler(kraken_historical_ETH, '1H', round = True, fill='ffill')"
   ]
  },
  {
   "cell_type": "code",
   "execution_count": null,
   "metadata": {},
   "outputs": [],
   "source": [
    "scraped_ETH"
   ]
  },
  {
   "cell_type": "code",
   "execution_count": null,
   "metadata": {},
   "outputs": [],
   "source": [
    "kraken_historical_ETH"
   ]
  },
  {
   "cell_type": "code",
   "execution_count": null,
   "metadata": {},
   "outputs": [],
   "source": [
    "px.line(scraped_ETH_hourly, y=['close'])"
   ]
  },
  {
   "cell_type": "code",
   "execution_count": null,
   "metadata": {},
   "outputs": [],
   "source": [
    "px.line(kraken_historical_ETH_hourly, y=['close'])"
   ]
  }
 ],
 "metadata": {
  "kernelspec": {
   "display_name": "Python 3",
   "language": "python",
   "name": "python3"
  },
  "language_info": {
   "codemirror_mode": {
    "name": "ipython",
    "version": 3
   },
   "file_extension": ".py",
   "mimetype": "text/x-python",
   "name": "python",
   "nbconvert_exporter": "python",
   "pygments_lexer": "ipython3",
   "version": "3.8.10"
  },
  "orig_nbformat": 4
 },
 "nbformat": 4,
 "nbformat_minor": 2
}
