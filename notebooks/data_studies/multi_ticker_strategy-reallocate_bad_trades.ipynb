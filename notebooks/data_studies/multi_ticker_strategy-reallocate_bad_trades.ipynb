{
 "cells": [
  {
   "cell_type": "code",
   "execution_count": 1,
   "metadata": {},
   "outputs": [],
   "source": [
    "import sys\n",
    "from openbb import obb\n",
    "sys.path.append(r'C:\\Users\\avido\\Documents\\other code\\AlgoTrading')\n",
    "from assets.api_credentials import openbb_pat\n",
    "obb.account.login(pat=openbb_pat, remember_me=True)\n",
    "from utils.local_data_interface import get_all_stock_lists, get_stock_list, get_sp500_by_date\n",
    "\n",
    "import pandas as pd\n",
    "import matplotlib.pyplot as plt\n",
    "import numpy as np\n",
    "from datetime import datetime, timedelta\n",
    "\n",
    "\n",
    "%load_ext autoreload\n",
    "%autoreload 2"
   ]
  },
  {
   "cell_type": "code",
   "execution_count": 9,
   "metadata": {},
   "outputs": [
    {
     "data": {
      "text/plain": [
       "['AMTM',\n",
       " 'CPAY',\n",
       " 'CRWD',\n",
       " 'DECK',\n",
       " 'DELL',\n",
       " 'DOC',\n",
       " 'ERIE',\n",
       " 'GDDY',\n",
       " 'GEV',\n",
       " 'KKR',\n",
       " 'PLTR',\n",
       " 'SMCI',\n",
       " 'SOLV',\n",
       " 'SW',\n",
       " 'TPL',\n",
       " 'VST']"
      ]
     },
     "execution_count": 9,
     "metadata": {},
     "output_type": "execute_result"
    }
   ],
   "source": [
    "old = get_sp500_by_date('2024-01-01')\n",
    "current = get_sp500_by_date('2025-01-01')\n",
    "\n",
    "#show the difference between the two lists\n",
    "[i for i in current if i not in old]"
   ]
  },
  {
   "cell_type": "code",
   "execution_count": 11,
   "metadata": {},
   "outputs": [],
   "source": [
    "start_date = '2015-01-01'\n",
    "\n",
    "sybols = get_sp500_by_date(start_date)\n",
    "\n",
    "stock_data = {}\n",
    "for symbol in sybols:\n",
    "    try:\n",
    "        stock_data[symbol] = obb.equity.price.historical(symbol=symbol,  interval='1d', start_date=start_date).to_df()\n",
    "    except:\n",
    "        continue\n",
    "    \n"
   ]
  },
  {
   "cell_type": "code",
   "execution_count": null,
   "metadata": {},
   "outputs": [],
   "source": [
    "#strategy: buy 1 share of every stock in the index. Every day, if the stock is blow the starting value, sell and buy another "
   ]
  }
 ],
 "metadata": {
  "kernelspec": {
   "display_name": ".venv",
   "language": "python",
   "name": "python3"
  },
  "language_info": {
   "codemirror_mode": {
    "name": "ipython",
    "version": 3
   },
   "file_extension": ".py",
   "mimetype": "text/x-python",
   "name": "python",
   "nbconvert_exporter": "python",
   "pygments_lexer": "ipython3",
   "version": "3.10.10"
  }
 },
 "nbformat": 4,
 "nbformat_minor": 2
}
