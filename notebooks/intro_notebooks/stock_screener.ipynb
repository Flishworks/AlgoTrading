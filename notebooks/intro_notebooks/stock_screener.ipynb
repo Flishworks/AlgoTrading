{
 "cells": [
  {
   "cell_type": "code",
   "execution_count": 1,
   "metadata": {},
   "outputs": [],
   "source": [
    "from openbb import obb\n",
    "from api_credentials import openbb_pat\n",
    "obb.account.login(pat=openbb_pat, remember_me=True)"
   ]
  },
  {
   "cell_type": "code",
   "execution_count": 15,
   "metadata": {},
   "outputs": [],
   "source": [
    "def ranked_correlations(df, symbol):\n",
    "    # for each symbol in df, return the ranked correlations of all other symbols\n",
    "    corrs = {}\n",
    "    for s in df['symbol'].unique():\n",
    "        if s != symbol:\n",
    "            corrs[s] = df[s].corr(df[symbol])\n",
    "    return sorted(corrs.items(), key=lambda x: x[1], reverse=True)"
   ]
  },
  {
   "cell_type": "code",
   "execution_count": null,
   "metadata": {},
   "outputs": [],
   "source": [
    "stocks = obb.equity.screener(provider='fmp').to_df()\n",
    "stocks.head()"
   ]
  },
  {
   "cell_type": "code",
   "execution_count": null,
   "metadata": {},
   "outputs": [],
   "source": [
    "us_tickers = stocks[stocks['country'] == 'US']\n",
    "us_tickers.head()"
   ]
  },
  {
   "cell_type": "code",
   "execution_count": 13,
   "metadata": {},
   "outputs": [],
   "source": [
    "data = obb.equity.price.historical(symbol=us_tickers.symbol.to_list()[0:100], provider=\"yfinance\", start_date=\"2024-01-02\", interval='1d').to_df()"
   ]
  },
  {
   "cell_type": "code",
   "execution_count": null,
   "metadata": {},
   "outputs": [],
   "source": [
    "data"
   ]
  },
  {
   "cell_type": "code",
   "execution_count": null,
   "metadata": {},
   "outputs": [],
   "source": [
    "ranked_correlations(data, 'AAPL')"
   ]
  }
 ],
 "metadata": {
  "kernelspec": {
   "display_name": ".venv",
   "language": "python",
   "name": "python3"
  },
  "language_info": {
   "codemirror_mode": {
    "name": "ipython",
    "version": 3
   },
   "file_extension": ".py",
   "mimetype": "text/x-python",
   "name": "python",
   "nbconvert_exporter": "python",
   "pygments_lexer": "ipython3",
   "version": "3.11.5"
  }
 },
 "nbformat": 4,
 "nbformat_minor": 2
}
