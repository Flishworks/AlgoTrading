{
 "cells": [
  {
   "cell_type": "code",
   "execution_count": null,
   "metadata": {},
   "outputs": [],
   "source": [
    "from openbb import obb\n",
    "import matplotlib.pyplot as plt\n",
    "\n",
    "import sys\n",
    "sys.path.append(r'C:\\Users\\avido\\Documents\\other code\\AlgoTrading')\n",
    "from assets.api_credentials import openbb_pat\n",
    "obb.account.login(pat=openbb_pat, remember_me=True)\n",
    "\n",
    "import indicators as inds\n",
    "from indicators import pandas_ta_indicators as pti\n",
    "\n",
    "%load_ext autoreload\n",
    "%autoreload 2\n",
    "\n",
    "plt.rcParams['figure.figsize'] = [12, 4]"
   ]
  },
  {
   "cell_type": "code",
   "execution_count": null,
   "metadata": {},
   "outputs": [],
   "source": [
    "df = obb.equity.price.historical(symbol=\"aapl\", provider=\"yfinance\", start_date=\"1992-01-02\", interval='1d').to_df()\n",
    "df.fillna(method='ffill', inplace=True)\n",
    "print(len(df))\n",
    "df.head()\n",
    "\n",
    "\n",
    "\n"
   ]
  },
  {
   "cell_type": "code",
   "execution_count": null,
   "metadata": {},
   "outputs": [],
   "source": [
    "\n",
    "indicators = [inds.Normalized_Relative_Price()] #  pti.all_candlestick_patterns()] #inds.SMA(), inds.SMA(period=10), inds.EMA(), inds.RSI()] #, inds.MACD()]\n",
    "extractor = inds.Extractor(indicators)\n",
    "df = extractor.extract(df)\n",
    "print(len(df))\n",
    "df.head()"
   ]
  },
  {
   "cell_type": "code",
   "execution_count": null,
   "metadata": {},
   "outputs": [],
   "source": [
    "plt.rcParams['figure.figsize'] = [12, 4]\n",
    "\n",
    "plt.plot(df['Normalized_Relative_Price(relative_to=spy,length=14,col=close)'])\n",
    "#plot horizontal line at zero\n",
    "plt.axhline(y=1, color='r', linestyle='-')\n",
    "plt.show()\n",
    "\n",
    "plt.plot(df['close'])\n",
    "plt.show()"
   ]
  },
  {
   "cell_type": "code",
   "execution_count": null,
   "metadata": {},
   "outputs": [],
   "source": [
    "import plotly.graph_objects as go\n",
    "\n",
    "import pandas as pd\n",
    "from datetime import datetime\n",
    "\n",
    "fig = go.Figure(data=[go.Candlestick(x=df.index,\n",
    "                open=df['open'],\n",
    "                high=df['high'],\n",
    "                low=df['low'],\n",
    "                close=df['close'])])\n",
    "\n",
    "fig.update_yaxes(fixedrange=False)\n",
    "fig.show()\n"
   ]
  },
  {
   "cell_type": "code",
   "execution_count": null,
   "metadata": {},
   "outputs": [],
   "source": [
    "import plotly.graph_objects as go\n",
    "from plotly.subplots import make_subplots\n",
    "\n",
    "import pandas as pd\n",
    "from datetime import datetime\n",
    "\n",
    "fig = go.Figure(go.Scatter(x=df.index, y=df['CDL_3INSIDE'], mode='lines', name='CDL_3INSIDE'))\n",
    "\n",
    "fig.update_yaxes(fixedrange=False)\n",
    "fig.show()\n"
   ]
  }
 ],
 "metadata": {
  "kernelspec": {
   "display_name": ".venv",
   "language": "python",
   "name": "python3"
  },
  "language_info": {
   "codemirror_mode": {
    "name": "ipython",
    "version": 3
   },
   "file_extension": ".py",
   "mimetype": "text/x-python",
   "name": "python",
   "nbconvert_exporter": "python",
   "pygments_lexer": "ipython3",
   "version": "3.10.10"
  }
 },
 "nbformat": 4,
 "nbformat_minor": 2
}
