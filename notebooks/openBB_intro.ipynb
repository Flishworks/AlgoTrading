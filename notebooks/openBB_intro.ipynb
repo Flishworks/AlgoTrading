{
 "cells": [
  {
   "cell_type": "code",
   "execution_count": 48,
   "metadata": {},
   "outputs": [],
   "source": [
    "import sys\n",
    "from openbb import obb\n",
    "sys.path.append(r'C:\\Users\\avido\\Documents\\other code\\AlgoTrading')\n",
    "from assets.api_credentials import openbb_pat\n",
    "obb.account.login(pat=openbb_pat, remember_me=True)"
   ]
  },
  {
   "cell_type": "markdown",
   "metadata": {},
   "source": [
    "basics"
   ]
  },
  {
   "cell_type": "code",
   "execution_count": null,
   "metadata": {},
   "outputs": [],
   "source": [
    "# Get the price of a stock\n",
    "quote_data = obb.equity.price.quote(symbol=\"AAPL\", provider=\"yfinance\")\n",
    "quote_data.to_df().head()"
   ]
  },
  {
   "cell_type": "code",
   "execution_count": null,
   "metadata": {},
   "outputs": [],
   "source": [
    "obb.equity.price.historical(symbol=\"mstr\", provider=\"yfinance\", start_date=\"2025-01-02\", interval='1h').to_df().head()"
   ]
  },
  {
   "cell_type": "markdown",
   "metadata": {},
   "source": [
    "historical availability by interval"
   ]
  },
  {
   "cell_type": "code",
   "execution_count": null,
   "metadata": {},
   "outputs": [],
   "source": [
    "for interval in ['1m', '5m', '15m', '30m', '60m', '1d']:\n",
    "    print(f\"Interval: {interval}\")\n",
    "    print(obb.equity.price.historical(symbol=\"AAPL\", provider=\"yfinance\", start_date=\"1980-01-01\", interval=interval).to_df().index[0])\n",
    "    print()"
   ]
  },
  {
   "cell_type": "markdown",
   "metadata": {},
   "source": [
    "screener"
   ]
  },
  {
   "cell_type": "code",
   "execution_count": null,
   "metadata": {},
   "outputs": [],
   "source": [
    "stocks = obb.equity.screener(provider='fmp').to_df()\n",
    "stocks.head()\n"
   ]
  },
  {
   "cell_type": "markdown",
   "metadata": {},
   "source": [
    "econometrics"
   ]
  },
  {
   "cell_type": "code",
   "execution_count": null,
   "metadata": {},
   "outputs": [],
   "source": [
    "cpi = obb.economy.cpi(country='united_states', provider='fred').to_df()\n",
    "cpi.head()"
   ]
  },
  {
   "cell_type": "code",
   "execution_count": null,
   "metadata": {},
   "outputs": [],
   "source": [
    "cpi['country'].unique()\n"
   ]
  },
  {
   "cell_type": "code",
   "execution_count": 50,
   "metadata": {},
   "outputs": [],
   "source": [
    "sys.path.append(r'C:\\Users\\avido\\Documents\\other code\\data_sync_app')\n",
    "import api as chart\n",
    "import numpy as np\n",
    "\n",
    "id = \"chart_1\"\n",
    "# response = chart.new_chart(id)\n",
    "response = chart.replace_data(id, [\n",
    "    {\n",
    "        'name': 'Some data', # name is optional, and doesnt have to match the chart id        \n",
    "        'data_x' : np.arange(len(cpi)), # required. Can be a list or numpy array\n",
    "        'data_y': cpi['value'].to_list(), # required. Can be a list or numpy array\n",
    "        'color' : '#7070FF' # color is also optional. can be hex ('#FF7070') or RGBA ('rgba(255, 112, 112, 0.5)')\n",
    "    },\n",
    "])"
   ]
  },
  {
   "cell_type": "code",
   "execution_count": null,
   "metadata": {},
   "outputs": [],
   "source": [
    "ice_bofa"
   ]
  },
  {
   "cell_type": "code",
   "execution_count": null,
   "metadata": {},
   "outputs": [],
   "source": [
    "ice_bofa = obb.fixedincome.corporate.ice_bofa(provider='fred').to_df()\n",
    "\n",
    "#fillna\n",
    "ice_bofa = ice_bofa.fillna(method='ffill')\n",
    "ice_bofa_yield_to_worst = ice_bofa_yield_to_worst.fillna(method='ffill')\n",
    "\n",
    "id = \"chart_1\"\n",
    "response = chart.new_chart(id)\n",
    "response = chart.replace_data(id, [\n",
    "    {\n",
    "        'name': 'ice_bofa', # name is optional, and doesnt have to match the chart id        \n",
    "        'data_x' : np.arange(len(ice_bofa)), # required. Can be a list or numpy array\n",
    "        'data_y': ice_bofa['rate'].to_list(), # required. Can be a list or numpy array\n",
    "        'color' : '#7070FF' # color is also optional. can be hex ('#FF7070') or RGBA ('rgba(255, 112, 112, 0.5)')\n",
    "    },\n",
    "])\n",
    "\n",
    "spy = obb.equity.price.historical(symbol='SPY', provider='yfinance', start_date='2020-01-01', interval='1d').to_df()\n",
    "id = \"chart_2\"\n",
    "response = chart.new_chart(id)\n",
    "response = chart.replace_data(id, [\n",
    "    {\n",
    "        'name': 'spy', # name is optional, and doesnt have to match the chart id        \n",
    "        'data_x' : np.arange(len(spy)), # required. Can be a list or numpy array\n",
    "        'data_y': spy['close'].to_list(), # required. Can be a list or numpy array\n",
    "        'color' : '#7070FF' # color is also optional. can be hex ('#FF7070') or RGBA ('rgba(255, 112, 112, 0.5)')\n",
    "    },\n",
    "])"
   ]
  }
 ],
 "metadata": {
  "kernelspec": {
   "display_name": ".venv",
   "language": "python",
   "name": "python3"
  },
  "language_info": {
   "codemirror_mode": {
    "name": "ipython",
    "version": 3
   },
   "file_extension": ".py",
   "mimetype": "text/x-python",
   "name": "python",
   "nbconvert_exporter": "python",
   "pygments_lexer": "ipython3",
   "version": "3.10.10"
  }
 },
 "nbformat": 4,
 "nbformat_minor": 2
}
