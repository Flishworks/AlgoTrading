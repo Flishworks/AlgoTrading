{
 "cells": [
  {
   "cell_type": "code",
   "execution_count": 154,
   "metadata": {},
   "outputs": [],
   "source": [
    "import sys\n",
    "from openbb import obb\n",
    "sys.path.append(r'C:\\Users\\avido\\Documents\\other code\\AlgoTrading')\n",
    "from assets.api_credentials import openbb_pat\n",
    "obb.account.login(pat=openbb_pat, remember_me=True)\n",
    "\n",
    "import pandas as pd\n",
    "import matplotlib.pyplot as plt\n",
    "import numpy as np\n",
    "from datetime import datetime\n",
    "import mplfinance as mpf\n",
    "\n",
    "from dsp_utils import find_similar_vectors, standardize\n",
    "from collections import Counter\n",
    "\n",
    "sys.path.append(r\"C:/Users/avido/Documents/other code/Signal_processing_and_timeseries_exploration\")"
   ]
  },
  {
   "cell_type": "code",
   "execution_count": null,
   "metadata": {},
   "outputs": [],
   "source": [
    "#get max amount of hourly data\n",
    "hourly_df = obb.equity.price.historical(symbol=\"iau\", provider=\"yfinance\", start_date=\"1900-01-01\", interval='1h', include_prepost=True).to_df()\n",
    "hourly_df.head()"
   ]
  },
  {
   "cell_type": "code",
   "execution_count": 151,
   "metadata": {},
   "outputs": [],
   "source": [
    "keys_to_consider = ['open', 'high', 'low', 'close', 'volume']\n",
    "# get the data for each day\n",
    "daily_ohlc_vectors = []\n",
    "daily_ohlc_dfs = []\n",
    "for date in hourly_df['date'].unique():\n",
    "    # yesterdays_date = hourly_df['date'].values[np.argwhere(hourly_df['date'].values == date)[0][0] - 1]\n",
    "    # yesterdays_close = hourly_df[hourly_df['date'] == yesterdays_date]['close'].values[-1]\n",
    "    \n",
    "    daily_ohlc_vectors.append(np.hstack([\n",
    "        standardize(hourly_df[hourly_df['date'] == date][key].values) for key in keys_to_consider\n",
    "    ]))\n",
    "    daily_ohlc_dfs.append(hourly_df[hourly_df['date'] == date])\n",
    "    \n",
    "lengths = [len(x) for x in daily_ohlc_vectors]\n",
    "counts = Counter(lengths)\n",
    "common_len = counts.most_common(1)[0][0]\n",
    "\n",
    "idxs_to_remove = []\n",
    "for i in range(len(daily_ohlc_vectors)):\n",
    "    if daily_ohlc_vectors[i].shape[0] != common_len:\n",
    "        idxs_to_remove.append(i)\n",
    "\n",
    "daily_ohlc_vectors = [daily_ohlc_vectors[i] for i in range(len(daily_ohlc_vectors)) if i not in idxs_to_remove]\n",
    "daily_ohlc_dfs = [daily_ohlc_dfs[i] for i in range(len(daily_ohlc_dfs)) if i not in idxs_to_remove]\n",
    "\n",
    "    \n",
    "daily_ohlc_array = np.array(daily_ohlc_vectors)\n",
    "\n",
    "sim_vecs = find_similar_vectors(daily_ohlc_array, num_match = 10, metric = 'euclidean')"
   ]
  },
  {
   "cell_type": "code",
   "execution_count": null,
   "metadata": {},
   "outputs": [],
   "source": [
    "sim_vecs"
   ]
  },
  {
   "cell_type": "code",
   "execution_count": null,
   "metadata": {},
   "outputs": [],
   "source": [
    "for vec_idx in sim_vecs[0]:\n",
    "    mpf.plot(daily_ohlc_dfs[vec_idx], type='candle', style='charles', volume=True)"
   ]
  },
  {
   "cell_type": "code",
   "execution_count": null,
   "metadata": {},
   "outputs": [],
   "source": [
    "# now plot the day after each of the most similar vectors\n",
    "\n",
    "for vec_idx in sim_vecs[0]:\n",
    "    mpf.plot(daily_ohlc_dfs[vec_idx + 1], type='candle', style='charles', volume=True)"
   ]
  },
  {
   "cell_type": "code",
   "execution_count": null,
   "metadata": {},
   "outputs": [],
   "source": []
  }
 ],
 "metadata": {
  "kernelspec": {
   "display_name": ".venv",
   "language": "python",
   "name": "python3"
  },
  "language_info": {
   "codemirror_mode": {
    "name": "ipython",
    "version": 3
   },
   "file_extension": ".py",
   "mimetype": "text/x-python",
   "name": "python",
   "nbconvert_exporter": "python",
   "pygments_lexer": "ipython3",
   "version": "3.10.10"
  }
 },
 "nbformat": 4,
 "nbformat_minor": 2
}
